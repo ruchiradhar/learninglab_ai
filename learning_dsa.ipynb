{
 "cells": [
  {
   "cell_type": "markdown",
   "metadata": {
    "jp-MarkdownHeadingCollapsed": true
   },
   "source": [
    "# Big O Notation\n",
    "\n",
    "The Big O Notation, also known as the Bachman-Landau notation or the asymptotic notation, describes the limiting behaviour of a function when the argument tends to a particular number or infinity. \n",
    "\n",
    "In the context of computer science, the notation is used to describe the limiting computational complexity of an algorithm. The computational complexity has two parts- time complexity and space complexity. The Big O for algorithms thus tells us how the time and space (memory) requirements of an algorithm ($O(f(n))$) change with change in the input size ($n$). \n",
    "\n",
    "The calculation ignores constants and only takes the maximum term in $f(n)$. Typically there are 3 scenarios: \n",
    "\n",
    "- Best Case \n",
    "- Average Case\n",
    "- Worst Case\n",
    "\n",
    "The most commonly acceptable complexity is $O(nlogn)$ and is also most common for sorting algorithms. A logarithmic complexity usually indicates that the input is being reduced by a percentage at every step of the algorithm. "
   ]
  },
  {
   "cell_type": "markdown",
   "metadata": {},
   "source": [
    "## Time Complexity\n",
    "\n",
    "The time complexity of a given algorithm indicates the changing time requirements via change in number of operations with input size. It is not meant to be an exact count of number of operations but rather the change in it. \n",
    "\n",
    "For example: \n",
    "\n",
    "1. Given an array of length N, finding the elements at specific indexes will need us to just access those specific elements requiring $O(1)$ or constant time complexity. \n",
    "2. Given a array of length N, finding squares of each element will need us to go through N elements requiring $O(N)$ time or linear time complexity.\n",
    "3. Given the same array, finding the unique combinations of all elements will need us to loop through the array and also loop through the array for each element in the array requiring $O(N^2)$ time or exponential time complexity.\n",
    "\n",
    "Graphical View: If we plot N on X-axis and number of operations on Y-axis, then example 1 will be a constant horizontal graph, example 2 will be a linear graph while example 3 will be an exponential graph (which is usually the worst case time complexity). "
   ]
  },
  {
   "cell_type": "markdown",
   "metadata": {},
   "source": [
    "## Space Complexity\n",
    "\n",
    "The space complexity of a given algorithm indicates the changing space requirements of the algorithm as the input size grows. \n",
    "\n",
    "For example, given an array of length N and task of finding squares of each element, we can store the square for the N elements requiring $O(N)$ linear space complexity. We could also modify the array itself in which case we don't need any new space and have $O(1)$ or a constant space complexity. "
   ]
  },
  {
   "cell_type": "markdown",
   "metadata": {},
   "source": [
    "## Visualizing Complexities\n",
    "\n",
    "<img src=\"images/bigo_chart.webp\" \n",
    "        alt=\"Picture\" \n",
    "        width=\"800\" \n",
    "        height=\"800\" \n",
    "        style=\"display: block; margin: 0 auto\" />\n",
    "\n",
    "Image Source: [Hanwen Zhang's blogpost](https://hanwenzhang123.medium.com/big-o-notation-overview-with-time-and-space-complexity-f60a8a24772) "
   ]
  },
  {
   "cell_type": "markdown",
   "metadata": {
    "jp-MarkdownHeadingCollapsed": true
   },
   "source": [
    "# Data Structures"
   ]
  },
  {
   "cell_type": "markdown",
   "metadata": {
    "jp-MarkdownHeadingCollapsed": true
   },
   "source": [
    "## Arrays and Strings\n",
    "\n",
    "Arrays and strings are linear data structures consisting of elements stored sequentially in a contiguous memory block. They are the most common data structures used as input to algorithms. \n",
    "\n",
    "- Arrays can be mutable depending on the two types- static arrays have fixed length (C++ arrays) while dynamic arrays have adjustable length (Python lists).\n",
    "- Strings can be mutable depending on the language-  in C++ they are mutable while in Python/Java they are immutable."
   ]
  },
  {
   "cell_type": "markdown",
   "metadata": {},
   "source": [
    "Some common array/string operations include: finding element at index, finding index of element, insertion, deletion. \n",
    "\n",
    "Note: Python only has dynamic arrays implemented as multiple static arrays over time under the hood. To accommodate new elements, the size of array is doubled at every step so appending at end is $*O(1)$ since there's usually space while insertion at random position is $O(N)$ since other elements need to be copied and shifted to make new array."
   ]
  },
  {
   "cell_type": "markdown",
   "metadata": {},
   "source": [
    "<img src=\"images/array_complexities.png\" \n",
    "        alt=\"Picture\" \n",
    "        width=\"800\" \n",
    "        height=\"800\" \n",
    "        style=\"display: block; margin: 0 auto\" />\n",
    "\n",
    "Image Source: [Leetcode DSA Course](https://leetcode.com/explore/interview/card/leetcodes-interview-crash-course-data-structures-and-algorithms/703/arraystrings/4500/) "
   ]
  },
  {
   "cell_type": "code",
   "execution_count": 10,
   "metadata": {},
   "outputs": [
    {
     "name": "stdout",
     "output_type": "stream",
     "text": [
      "[1, 2, 3]\n",
      "1\n",
      "[7, 2, 3]\n",
      "[7, 2, 3, 5]\n",
      "[7, 2, 5, 3, 5]\n",
      "[7, 2, 5, 3]\n",
      "No\n",
      "4\n"
     ]
    }
   ],
   "source": [
    "# Array Operations\n",
    "\n",
    "A= [1,2,3]\n",
    "print(A)\n",
    "\n",
    "# accessing- O(1) \n",
    "print(A[0])\n",
    "\n",
    "# modifying not at end - O(1)\n",
    "A[0]= 7\n",
    "print(A)\n",
    "\n",
    "# inserting at end- O(1) mostly\n",
    "A.append(5)\n",
    "print(A)\n",
    "\n",
    "# inserting not at end- O(n)\n",
    "A.insert (2,5) # insert 5 at position 2 \n",
    "print(A)\n",
    "\n",
    "# deleting at end - O(1)\n",
    "A.pop(len(A)-1) #del at last index\n",
    "print(A)\n",
    "\n",
    "# checking if in array - O(N)\n",
    "print (\"Yes\") if 6 in A else print (\"No\")\n",
    "\n",
    "# check len -O(1)\n",
    "print(len(A))"
   ]
  },
  {
   "cell_type": "code",
   "execution_count": 12,
   "metadata": {},
   "outputs": [
    {
     "name": "stdout",
     "output_type": "stream",
     "text": [
      "Hello\n",
      "H\n",
      "Yes\n",
      "5\n"
     ]
    }
   ],
   "source": [
    "# String Operations\n",
    "\n",
    "S= \"Hello\"\n",
    "print(S)\n",
    "\n",
    "# accessing -O(1)\n",
    "print(S[0])\n",
    "\n",
    "# checking if in array - O(N)\n",
    "print (\"Yes\") if \"e\" in S else print (\"No\")\n",
    "\n",
    "# check len -O(1)\n",
    "print(len(S))\n",
    "\n",
    "# modifying, inserting, deleting only possible with new string creation- O(n)"
   ]
  },
  {
   "cell_type": "markdown",
   "metadata": {
    "jp-MarkdownHeadingCollapsed": true
   },
   "source": [
    "## Linked Lists\n",
    "\n",
    "Linked lists are linear data structures consisting of nodes with elements in them. The nodes are not contiguous but linked to each other via pointers/references. \n",
    "\n",
    "- Node: The node indicates an address in memory (Class Node)\n",
    "- Head Node: The node which comes first in the linked list and is referred to by the head pointer\n",
    "- Tail Node: The node which comes last and refers to a `None` object to indicate the end of the list.\n",
    "- Value: The values or elements are stored in these nodes (node.value)\n",
    "- Pointers/ References: Each node is linked to another via references (node.next)"
   ]
  },
  {
   "cell_type": "markdown",
   "metadata": {},
   "source": [
    "###  Types of Linked Lists\n",
    "\n",
    "1. Singly Linked Lists: In singly linked lists, we only have one link between nodes going in a direction starting from head\n",
    "2. Doubly linked lists: In doubly linked lists, we have both head and tails and thus links going in two directions. This is useful for deletion operations at end so that deleting a node and references still leaves a reference to reassign."
   ]
  },
  {
   "cell_type": "markdown",
   "metadata": {},
   "source": [
    "### Operations of Linked Lists\n",
    "\n",
    "The linked list structure differs from arrays since we now no longer have indices to traverse but references.\n",
    "\n",
    "- Access/Lookup: For doing these, we need to traverse from head and go X steps which makes all of these a O(n) or O(i) operation where i is the position where we want to perform the operations. \n",
    "\n",
    "Note: One major advantage of linked lists is that, unlike arrays, insertion or deletion doesn't require shifting and thus can be done in O(1) time while one major disadvantage is that accessing individual elements is no longer O(n) since there are no direct indices."
   ]
  },
  {
   "cell_type": "code",
   "execution_count": 60,
   "metadata": {},
   "outputs": [],
   "source": [
    "# Singly Linked List\n",
    "\n",
    "# defining the node class\n",
    "class SLLNode(): \n",
    "    \n",
    "    # defining initialization of instance\n",
    "    def __init__(self,val,nex=None):\n",
    "        self.val= val\n",
    "        self.nex= nex\n",
    "        \n",
    "    # defining print view of instance  \n",
    "    def __str__(self): \n",
    "        return str(self.val)\n",
    "\n",
    "# creating nodes for the list\n",
    "Head= SLLNode(1)\n",
    "A=SLLNode(3)\n",
    "B=SLLNode(4)\n",
    "C=SLLNode(7)\n",
    "\n",
    "# creating references\n",
    "Head.nex=A\n",
    "A.nex=B\n",
    "B.nex=C"
   ]
  },
  {
   "cell_type": "code",
   "execution_count": 61,
   "metadata": {},
   "outputs": [
    {
     "name": "stdout",
     "output_type": "stream",
     "text": [
      "1->3->4->7\n",
      "1\n",
      "3\n",
      "4\n",
      "7\n",
      "The given value is at node 7.\n"
     ]
    }
   ],
   "source": [
    "# Common operations in SLL\n",
    "\n",
    "# Displaying in O(n)\n",
    "# defining function\n",
    "def display(head):\n",
    "    curr=head\n",
    "    values=[]\n",
    "    while curr:\n",
    "        values.append(str(curr.val))\n",
    "        curr=curr.nex\n",
    "    print('->'.join(values))\n",
    "# calling the display function\n",
    "display(Head)\n",
    "\n",
    "# Traversal in O(n)\n",
    "curr=Head\n",
    "while curr:  #loop ends when curr=None for the last node\n",
    "    print(curr)\n",
    "    curr=curr.nex\n",
    "\n",
    "# Lookup for node value in O(n)\n",
    "value= 7\n",
    "curr=Head\n",
    "while curr:\n",
    "    if value==curr.val:\n",
    "        print(f\"The given value is at node {curr}.\")\n",
    "    curr=curr.nex"
   ]
  },
  {
   "cell_type": "code",
   "execution_count": 10,
   "metadata": {},
   "outputs": [],
   "source": [
    "# Doubly Linked list\n",
    "\n",
    "# defining the node class\n",
    "class DLLNode(): \n",
    "\n",
    "    def __init__(self, val, nex =None, prev=None): \n",
    "        self.val=val\n",
    "        self.nex=nex\n",
    "        self.prev=prev\n",
    "        \n",
    "    def __str__(self):\n",
    "        return str(self.val)\n",
    "\n",
    "# creating nodes \n",
    "Head=DLLNode(1)\n",
    "A=DLLNode(3)\n",
    "B=DLLNode(4)\n",
    "Tail= DLLNode(7)\n",
    "\n",
    "# creating references \n",
    "Head.nex=A\n",
    "A.nex=B\n",
    "A.prev=Head\n",
    "B.nex=Tail\n",
    "B.prev=A\n",
    "Tail.prev=B"
   ]
  },
  {
   "cell_type": "code",
   "execution_count": 11,
   "metadata": {},
   "outputs": [
    {
     "name": "stdout",
     "output_type": "stream",
     "text": [
      "1<->3<->4<->7\n",
      "0<->1<->3<->4<->7\n",
      "7\n",
      "0<->1<->3<->4<->7<->9\n"
     ]
    }
   ],
   "source": [
    "# Common operations in DLL\n",
    "\n",
    "# Displaying in O(n)\n",
    "# defining function\n",
    "def display(head):\n",
    "    curr=head\n",
    "    values=[]\n",
    "    while curr:\n",
    "        values.append(str(curr.val))\n",
    "        curr=curr.nex\n",
    "    print('<->'.join(values))\n",
    "# calling the display function\n",
    "display(Head)\n",
    "\n",
    "# Insertion at beginning in O(1)\n",
    "def in_begin(head,val): \n",
    "    newhead=DLLNode(val,nex=head)\n",
    "    head.prev= newhead\n",
    "    return newhead\n",
    "newhead=in_begin(Head,0)\n",
    "display(newhead)\n",
    "\n",
    "\n",
    "# Insertion at end in O(n)\n",
    "def in_end(head,val): \n",
    "    newtail=DLLNode(9)\n",
    "    curr=head\n",
    "    while curr.nex: \n",
    "        curr=curr.nex\n",
    "    curr.nex=newtail\n",
    "    newtail.prev=curr\n",
    "    return head   \n",
    "newtail=in_end(newhead,9)\n",
    "display(newtail)"
   ]
  },
  {
   "cell_type": "markdown",
   "metadata": {
    "jp-MarkdownHeadingCollapsed": true
   },
   "source": [
    "## Graphs\n",
    "\n",
    "A graph consists of nodes/vertices and possible edges connecting them. There are two main types of graphs: \n",
    "\n",
    "- Directed: The edges can only lead from one node to another\n",
    "- Undirected: The edges lead in both direction\n",
    "- Cyclic: The edges are connected in a way that they form circles i.e it is possible to return to the same node via graph traversal\n",
    "\n",
    "Some common representations of graphs: \n",
    "- Edge List: A list of list with ordered pairs representing edges\n",
    "- Adjacency Matrix: A matrix where each row indicates what elements that element is connected to. \n",
    "- Adjacency List: A dictionary where each key has a list with all nodes that key element is connected to. "
   ]
  },
  {
   "cell_type": "markdown",
   "metadata": {
    "jp-MarkdownHeadingCollapsed": true
   },
   "source": [
    "## Hash Tables\n",
    "\n",
    "Hashing involves the use of hash functions for converting data (such as strings or numbers) into fixed-size values called hash codes. These hash codes are used as indexes to store the data in data structures called hash tables. \n",
    "\n",
    "\n",
    "There can be collisions in which case they are solved by linear probing as $*O(1)$\n",
    "\n",
    "- We calculate possible position\n",
    "- Lookup position and if occupied, go to next position to check\n",
    "- Keep traversing until we find or end positions, returning boolean\n",
    "\n",
    "\n",
    "They are typically implemented in two ways- hash maps and hash sets."
   ]
  },
  {
   "cell_type": "markdown",
   "metadata": {},
   "source": [
    "### Hash Sets\n",
    "\n",
    "Hash sets map positions to elements\n",
    "\n",
    "- Lookups are usually $O(1)$ since we can search by position\n",
    "- However, in case multiple elements are at a position then each position contains a linked list of elements instead of one single element which leads to higher time complexity if we need to traverse linked list."
   ]
  },
  {
   "cell_type": "code",
   "execution_count": 2,
   "metadata": {},
   "outputs": [
    {
     "name": "stdout",
     "output_type": "stream",
     "text": [
      "True\n",
      "1\n",
      "2\n"
     ]
    }
   ],
   "source": [
    "# Hash set\n",
    "s=set()\n",
    "\n",
    "# add at O (1)\n",
    "s.add (1)\n",
    "s.add(2)\n",
    "s.add (3)\n",
    "\n",
    "# remove at O(1)\n",
    "s.remove(3)\n",
    "\n",
    "# lookup at O(1)\n",
    "if 1 in s:\n",
    "    print(True)\n",
    "\n",
    "# loop over items in set- O(n)\n",
    "for item in s:\n",
    "    print(item)\n"
   ]
  },
  {
   "cell_type": "markdown",
   "metadata": {},
   "source": [
    "### Hash Maps\n",
    "\n",
    "Hash maps map keys to elements where the keys must be hashable i.e immutable (integers, strings, tuples)\n",
    "\n",
    "- Lookups/Removals are $*O(1)$ since\n",
    "- Addition is $O(1)$"
   ]
  },
  {
   "cell_type": "code",
   "execution_count": 6,
   "metadata": {},
   "outputs": [
    {
     "name": "stdout",
     "output_type": "stream",
     "text": [
      "<class 'set'>\n"
     ]
    }
   ],
   "source": [
    "string= \"aaaabbbccc\"\n",
    "s=set(string)\n",
    "print(set) # set construction O(S) at S -len(S)"
   ]
  },
  {
   "cell_type": "code",
   "execution_count": 3,
   "metadata": {},
   "outputs": [
    {
     "name": "stdout",
     "output_type": "stream",
     "text": [
      "True\n",
      "1\n",
      "greg:1\n",
      "steve:2\n",
      "rob:3\n",
      "arsh:4\n"
     ]
    }
   ],
   "source": [
    "# hashmaps\n",
    "d={'greg':1,'steve':2,'rob':3}\n",
    "\n",
    "# add in O(1)\n",
    "d['arsh']= 4\n",
    "\n",
    "# lookup in O(1) for key/val\n",
    "if 'greg' in d:\n",
    "    print(True)\n",
    "print(d['greg'])\n",
    "\n",
    "# loop over items in O(n)\n",
    "for k,v in d.items(): \n",
    "    print(f'{k}:{v}')"
   ]
  },
  {
   "cell_type": "code",
   "execution_count": 4,
   "metadata": {},
   "outputs": [
    {
     "data": {
      "text/plain": [
       "0"
      ]
     },
     "execution_count": 4,
     "metadata": {},
     "output_type": "execute_result"
    }
   ],
   "source": [
    "from collections import defaultdict\n",
    "\n",
    "default= defaultdict(int) # the automated hash map\n",
    "default[2]"
   ]
  },
  {
   "cell_type": "code",
   "execution_count": 7,
   "metadata": {},
   "outputs": [
    {
     "name": "stdout",
     "output_type": "stream",
     "text": [
      "Counter({'a': 4, 'b': 3, 'c': 3})\n"
     ]
    }
   ],
   "source": [
    "from collections import Counter\n",
    "counter=Counter(string)\n",
    "print(counter)"
   ]
  },
  {
   "cell_type": "markdown",
   "metadata": {
    "jp-MarkdownHeadingCollapsed": true
   },
   "source": [
    "## Stacks and Queues\n",
    "\n",
    "In stacks we are only concerned with whats on the end or right (last in first out LIFO)\n",
    "\n",
    "Append- increases size and complexity depends on implementation  like in arrays\n",
    "Pop- take off last element is always O(1)\n",
    "Peek at O(1)\n",
    "isempty at O(1)"
   ]
  },
  {
   "cell_type": "code",
   "execution_count": null,
   "metadata": {},
   "outputs": [],
   "source": [
    "# stack\n",
    "stk= []\n",
    "stk.append(5) \n",
    "x= stk.pop()\n",
    "stk[-1] # peek \n",
    "if stk:  #check if something in list at O(1)\n",
    "    print(True)"
   ]
  },
  {
   "cell_type": "markdown",
   "metadata": {},
   "source": [
    "Queues\n",
    "\n",
    "In stacks we are concerned with elements at the beginning (FIFO )\n",
    "\n",
    "Enqueue- add element at end in *O(1)\n",
    "Deque- pop element at beginning in O(1) for DLL while O(n) for arrays (due to moving around)"
   ]
  },
  {
   "cell_type": "code",
   "execution_count": null,
   "metadata": {},
   "outputs": [],
   "source": [
    "# double ended queue\n",
    "from collections import deque\n",
    "q=deque()\n",
    "prnt(q)\n",
    "\n",
    "# enqueue at O(1)\n",
    "q.append(5)\n",
    "q.append(6)\n",
    "print(q)\n",
    "\n",
    "#dequeue\n",
    "q.popleft() # at - O(1)\n",
    "\n",
    "# left peek at O(1)\n",
    "q[0]\n",
    "\n",
    "# right peek at O(1)\n",
    "q[-1]"
   ]
  },
  {
   "cell_type": "code",
   "execution_count": null,
   "metadata": {},
   "outputs": [],
   "source": []
  },
  {
   "cell_type": "code",
   "execution_count": null,
   "metadata": {},
   "outputs": [],
   "source": []
  },
  {
   "cell_type": "markdown",
   "metadata": {},
   "source": [
    "## Heap\n",
    "\n",
    "A heap (also known as a priority queue) is a type of binary tree with two following properties: \n",
    "\n",
    "- For each node $i=1$, the left node is $2i+1$ whereas the right node is $2i+2$\n",
    "- The min or maximum element is at the top and parents are always respectively smaller (min heap) or larger (max heap) than children.\n",
    "\n",
    "A binary tree is converted into a heap with the heapify function with repeated sift downs (min heap) or sift ups (max heap) in $O(n)$ time and $O(1)$.\n",
    "\n",
    "\n",
    "Some common heap operations and their time complexities: \n",
    "\n",
    "- Heap Pop: Popping a node leads to self repair in $O(logn)$\n",
    "- Heap Push: Pushing in a new node also leads to self repair in $O(logn)$\n",
    "- Heap Peek: Ask what minimum is in $O(logn)$"
   ]
  },
  {
   "cell_type": "code",
   "execution_count": 5,
   "metadata": {},
   "outputs": [
    {
     "name": "stdout",
     "output_type": "stream",
     "text": [
      "[-4, 1, 0, 3, 9, 8, 2, 5, 12, 10]\n",
      "[0, 1, 2, 3, 9, 8, 10, 5, 12] -4\n",
      "[0, 1, 2, 3, 4, 8, 10, 5, 12, 9]\n"
     ]
    }
   ],
   "source": [
    "# Build min heap\n",
    "# given array\n",
    "A= [2,5,0,1,10,8,-4,3,12,9]\n",
    "\n",
    "# create heap from array\n",
    "# for max heap simply get negative for each element and then create heap and then remove negatives\n",
    "import heapq\n",
    "heapq.heapify(A)\n",
    "print(A)\n",
    "\n",
    "# heap pop\n",
    "minn= heapq.heappop(A)\n",
    "print(A,minn)\n",
    "\n",
    "# heap push\n",
    "heapq.heappush(A,4)\n",
    "print(A)"
   ]
  },
  {
   "cell_type": "markdown",
   "metadata": {},
   "source": []
  },
  {
   "cell_type": "code",
   "execution_count": null,
   "metadata": {},
   "outputs": [],
   "source": []
  },
  {
   "cell_type": "code",
   "execution_count": null,
   "metadata": {},
   "outputs": [],
   "source": []
  },
  {
   "cell_type": "markdown",
   "metadata": {
    "jp-MarkdownHeadingCollapsed": true
   },
   "source": [
    "# Algorithms\n",
    "\n",
    "An algorithm is defined as a series of steps required to solve a problem. In computation, there are two primary types of algorithms: \n",
    "\n",
    "- **Iterative Algorithms**: These use conditions and loops to simulate controlled repetition of operations\n",
    "- **Recursive Algorithms**: These use base cases and function calls to simulate controlled repetition of operations. These are a bit more complex to understand since recursion moves down and up again because function calls exist until each is returned. \n",
    "\n",
    "Computability Theory has shown that any iterative algorithm can be written as a recursive algorithm. "
   ]
  },
  {
   "cell_type": "markdown",
   "metadata": {
    "jp-MarkdownHeadingCollapsed": true
   },
   "source": [
    "## Recursion\n",
    "\n",
    "It is one of the most popular algorithms where the output of a function needs repeated calls of the function within itself. \n",
    "\n",
    "- The function is called with an input.\n",
    "- If input in base case, we directly get output\n",
    "- If input not in base case, a function call stack is created where lowest is given input and it stacks on top until we reach call for a base case\n",
    "- Once base case is reached in stack, the inputs get passed down through the stack.\n",
    "\n",
    "For the Fibonacci Function: \n",
    "\n",
    "- Time Complexity: $O(2^n)$ (at each step we need two calls where one is for f(n-1) and another for f(n-2))\n",
    "- Space Complexity: $O(n)$ (dependent on stack size)\n",
    "\n",
    "Recursive Data Structures: \n",
    "\n",
    "- Linked Lists\n",
    "- Trees\n",
    "- Graphs"
   ]
  },
  {
   "cell_type": "code",
   "execution_count": 4,
   "metadata": {},
   "outputs": [
    {
     "data": {
      "text/plain": [
       "2"
      ]
     },
     "execution_count": 4,
     "metadata": {},
     "output_type": "execute_result"
    }
   ],
   "source": [
    "# Finding fibonacci output at a specific sequence\n",
    "# Fibonacci: 0,1,1,2,3,5... (where n= (n-1) + n-2) i.e sum of last two numbers)\n",
    "def fib(n): \n",
    "    '''Outputs the fibonacci number for a given position n'''\n",
    "    # base cases\n",
    "    if n==0:\n",
    "        return 0\n",
    "    if n==1: \n",
    "        return 1\n",
    "    # recursion \n",
    "    if n>1: \n",
    "        return fib(n-1) + fib(n-2)\n",
    "\n",
    "fib(3)"
   ]
  },
  {
   "cell_type": "code",
   "execution_count": 8,
   "metadata": {},
   "outputs": [
    {
     "name": "stdout",
     "output_type": "stream",
     "text": [
      "4\n",
      "3\n",
      "2\n",
      "1\n"
     ]
    }
   ],
   "source": [
    "# Printing linked list in reverse\n",
    "# defining a linked list\n",
    "class SLLNode: \n",
    "    def __init__(self, val, nex=None):\n",
    "        self.val=val\n",
    "        self.nex=nex\n",
    "    def __str__(self): \n",
    "        return str(self.val)\n",
    "\n",
    "# creating a linked list\n",
    "Head= SLLNode(1)\n",
    "A=SLLNode(2)\n",
    "B=SLLNode(3)\n",
    "C=SLLNode(4)\n",
    "Head.nex=A\n",
    "A.nex=B\n",
    "B.nex=C\n",
    "\n",
    "# defining recursive function to print in reverse\n",
    "# time and space are O(n)\n",
    "def revprin(node):\n",
    "    if not node:\n",
    "        return\n",
    "    revprin(node.nex)\n",
    "    print(node)\n",
    "\n",
    "revprin(Head)"
   ]
  },
  {
   "cell_type": "markdown",
   "metadata": {
    "jp-MarkdownHeadingCollapsed": true
   },
   "source": [
    "## Binary Search \n",
    "\n",
    "Given a range of values, the algorithm helps us find the index of a specific element in the array\n",
    "\n",
    "- We sort the array in ascending order\n",
    "- We set three variables: Lookup (the element to be found), Left Pointer (lowest item), Right Pointer (highest item)\n",
    "- We calculate middle pointer (MP) as average of LP and RP and then divide by two reach the lower element amongst two pointers\n",
    "- We set up a conditional, if element is found, return index. If element is not found, check if its bigger or smaller and reset LP/RP to MP+1/MP-1. \n",
    "- Repeat with finding middle.\n",
    "- If element not list, we get R lower than L and return False\n",
    "\n",
    "\n",
    "The complexities are as follows:\n",
    "- Time:O(logn)\n",
    "- Space: O(1)"
   ]
  },
  {
   "cell_type": "markdown",
   "metadata": {},
   "source": [
    "### Traditional Search\n",
    "\n",
    "It refers to searching for a number in a sorted array with the typical binary search method. At times, the MP is implemented as $L+[(R-L) // 2]$ to avoid integer overflow for large numbers in the array. "
   ]
  },
  {
   "cell_type": "code",
   "execution_count": null,
   "metadata": {},
   "outputs": [
    {
     "name": "stdout",
     "output_type": "stream",
     "text": [
      "[-3, -1, 0, 1, 4, 7]\n",
      "5\n"
     ]
    },
    {
     "data": {
      "text/plain": [
       "False"
      ]
     },
     "execution_count": 18,
     "metadata": {},
     "output_type": "execute_result"
    }
   ],
   "source": [
    "# Find where 7 is in an array\n",
    "A= [-3,-1,4,7,1,0]\n",
    "print(sorted(A))\n",
    "\n",
    "# naive O(n)\n",
    "if 7 in A: \n",
    "    print(sorted(A).index(7))\n",
    "\n",
    "# binary search\n",
    "def bsarray(A, lookup:int)-> int:\n",
    "    # sort\n",
    "    A=sorted(A) \n",
    "    # create variables\n",
    "    lookup, LP, RP= lookup, 0, len(A)-1\n",
    "    # start search\n",
    "    while LP<=RP: # we want to consider when LP=RP as a possible element\n",
    "        # create MP\n",
    "        MP= LP+((RP-LP)//2)\n",
    "        # \n",
    "        if A[MP]== lookup:\n",
    "            return MP\n",
    "        elif A[MP]> lookup: \n",
    "            RP=MP-1\n",
    "        else: \n",
    "            LP=MP+1\n",
    "    \n",
    "    return False\n",
    "\n",
    "bsarray(A,-10)"
   ]
  },
  {
   "cell_type": "markdown",
   "metadata": {},
   "source": [
    "### Condition-Based Search\n",
    "\n",
    "It refers to searching for a *tipping point* in the array when the boolean value of element changes. The implementation is same as traditional but the RP is set to M instead of M-1 and we return when L=M. "
   ]
  },
  {
   "cell_type": "code",
   "execution_count": null,
   "metadata": {},
   "outputs": [
    {
     "name": "stdout",
     "output_type": "stream",
     "text": [
      "[False, False, False, False, True, True, True]\n"
     ]
    },
    {
     "data": {
      "text/plain": [
       "4"
      ]
     },
     "execution_count": 20,
     "metadata": {},
     "output_type": "execute_result"
    }
   ],
   "source": [
    "# Find position in array where we have first True\n",
    "A= [False, False,True,False,True, True, False]\n",
    "print(sorted(A))\n",
    "\n",
    "# binary search\n",
    "def bsarray(A)-> int:\n",
    "    # sort\n",
    "    A=sorted(A) \n",
    "    # create variables\n",
    "    LP, RP= 0, len(A)-1\n",
    "    # start search\n",
    "    while LP<RP: \n",
    "        MP= LP+((RP-LP)//2)\n",
    "        if A[MP]:\n",
    "            RP=MP\n",
    "        else: \n",
    "            LP=MP+1\n",
    "    return LP\n",
    "\n",
    "bsarray(A)"
   ]
  },
  {
   "cell_type": "markdown",
   "metadata": {},
   "source": [
    "## Tree Search\n",
    "\n",
    "The tree search algorithms are used to traverse general binary trees or binary search trees.\n"
   ]
  },
  {
   "cell_type": "markdown",
   "metadata": {},
   "source": [
    "### General Binary Tree\n",
    "\n",
    "A general binary tree is a directed acyclic graph (DAG) which has a root node with values and right/left nodes defined and a set of leaf nodes with value only. Some features of general binary trees:\n",
    "\n",
    "- The creation of a binary tree can be done from an array where first element set as $i=1$ is the root node and $2i$ is right node whereas $2i+1$ is the left node and so on.\n",
    "-  The height/maximum depth of a binary tree is the number of steps from root to leaf.\n",
    "\n",
    "There are two types of searches on a binary tree: DFS and BFS. The complexities for both are as follows: \n",
    "\n",
    "- Time Complexity: $O(n)$\n",
    "- Space Complexity: $O(n)$"
   ]
  },
  {
   "cell_type": "code",
   "execution_count": 22,
   "metadata": {},
   "outputs": [
    {
     "name": "stdout",
     "output_type": "stream",
     "text": [
      "1\n"
     ]
    }
   ],
   "source": [
    "# create Tree Class\n",
    "class TreeNode:\n",
    "    def __init__(self,val, left=None, right=None):\n",
    "        self.val=val\n",
    "        self.left=left\n",
    "        self.right=right\n",
    "    def __str__(self): \n",
    "        return str(self.val)\n",
    "\n",
    "# create a general binary tree\n",
    "A= TreeNode(1)\n",
    "B= TreeNode(2)\n",
    "C= TreeNode(3)\n",
    "D= TreeNode(4)\n",
    "E= TreeNode(5)\n",
    "F= TreeNode(10)\n",
    "\n",
    "A.left=B\n",
    "A.right=C\n",
    "B.left=D\n",
    "B.right=E\n",
    "C.left= F\n",
    "\n",
    "print(A)"
   ]
  },
  {
   "cell_type": "markdown",
   "metadata": {
    "jp-MarkdownHeadingCollapsed": true
   },
   "source": [
    "#### Depth First Search (DFS)\n",
    "\n",
    "We traverse through the depth of the tree from root to leaf in one chosen direction first and then travel up the tree. \n",
    "\n",
    "- We first implement an empty stack and pass in the root node. \n",
    "- Then we look at a child & pass it in stack and we look at left child & pass it in stack\n",
    "- We now pop the last item in stack. \n",
    "- We repeat from Step 2.\n",
    "\n",
    "The times when we process each element in the stack can be of three types: \n",
    "\n",
    "- Preorder traversal (process current>left>right)\n",
    "- Inorder traversal (process left>current>right)\n",
    "- Oostorder traversal (process left, right, node).\n",
    "\n",
    "DFS is implemented as a stack recursion. "
   ]
  },
  {
   "cell_type": "code",
   "execution_count": 29,
   "metadata": {},
   "outputs": [
    {
     "name": "stdout",
     "output_type": "stream",
     "text": [
      "1\n",
      "2\n",
      "4\n",
      "5\n",
      "3\n",
      "10\n"
     ]
    }
   ],
   "source": [
    "# DFS preorder traversal with iteration\n",
    "def pre_order_iter(node): \n",
    "    stk=[node]\n",
    "    while stk:\n",
    "        node=stk.pop()\n",
    "        if node.right:\n",
    "            stk.append(node.right)\n",
    "        print(node)\n",
    "        if node.left:\n",
    "            stk.append(node.left) #left is later to ensure that its the one popped first\n",
    "pre_order_iter(A)"
   ]
  },
  {
   "cell_type": "code",
   "execution_count": 24,
   "metadata": {},
   "outputs": [
    {
     "name": "stdout",
     "output_type": "stream",
     "text": [
      "1\n",
      "2\n",
      "4\n",
      "5\n",
      "3\n",
      "10\n"
     ]
    }
   ],
   "source": [
    "# DFS preorder traversal with recursion\n",
    "def pre_order(node): \n",
    "    if not node: \n",
    "        return\n",
    "    print(node) #process here is printing\n",
    "    pre_order(node.left)\n",
    "    pre_order(node.right)\n",
    "pre_order(A)"
   ]
  },
  {
   "cell_type": "code",
   "execution_count": 25,
   "metadata": {},
   "outputs": [
    {
     "name": "stdout",
     "output_type": "stream",
     "text": [
      "4\n",
      "2\n",
      "5\n",
      "1\n",
      "10\n",
      "3\n"
     ]
    }
   ],
   "source": [
    "# DFS inorder traversal with recursion\n",
    "def in_order(node): \n",
    "    if not node: \n",
    "        return\n",
    "    \n",
    "    in_order(node.left)\n",
    "    print(node) \n",
    "    in_order(node.right)\n",
    "in_order(A)"
   ]
  },
  {
   "cell_type": "code",
   "execution_count": 35,
   "metadata": {},
   "outputs": [
    {
     "data": {
      "text/plain": [
       "False"
      ]
     },
     "execution_count": 35,
     "metadata": {},
     "output_type": "execute_result"
    }
   ],
   "source": [
    "# DFS search value with recursion\n",
    "def search(node,target): \n",
    "    if not node: \n",
    "        return False\n",
    "    if node.val==target: \n",
    "        return True\n",
    "    return search(node.left,target) or search(node.right, target)\n",
    "search(A, 11)"
   ]
  },
  {
   "cell_type": "markdown",
   "metadata": {
    "jp-MarkdownHeadingCollapsed": true
   },
   "source": [
    "#### Breadth First Search (BFS)\n",
    "\n",
    "We traverse through the breadth of each level in a tree. It is implemented as a queue.\n",
    "\n",
    "- We implement an empty queue and pass in root node.\n",
    "- We pop leftmost from queue and process.\n",
    "- We look at children and pass in leftmost to rightmost.\n",
    "- We pop leftmost from queue and process.\n",
    "- Keep repeating until queue is empty.\n",
    "\n",
    "BFS is implemented as queue. "
   ]
  },
  {
   "cell_type": "code",
   "execution_count": 31,
   "metadata": {},
   "outputs": [
    {
     "name": "stdout",
     "output_type": "stream",
     "text": [
      "1\n",
      "2\n",
      "3\n",
      "4\n",
      "5\n",
      "10\n"
     ]
    }
   ],
   "source": [
    "# BFS traversal\n",
    "from collections import deque\n",
    "\n",
    "def level_order(node): \n",
    "    q= deque()\n",
    "    q.append(node)\n",
    "    while q: \n",
    "        node=q.popleft()\n",
    "        print(node)\n",
    "        if node.left:\n",
    "            q.append(node.left)\n",
    "        if node.right: \n",
    "            q.append(node.right)\n",
    "\n",
    "level_order(A)"
   ]
  },
  {
   "cell_type": "markdown",
   "metadata": {},
   "source": [
    "### Binary Search Tree\n",
    "\n",
    "It is a general binary tree with two special features: \n",
    "\n",
    "- For a given node, everything on left is smaller and everything on right is larger.\n",
    "- The lookup is much faster because while searching for a value, we can completely eliminate one side of the node depending on whether value is smaller or larger than the node value.\n",
    "\n",
    "We do an inorder traversal (process left>node>right). The complexities for are as follows: \n",
    "\n",
    "- Time Complexity: $O(logn)$\n",
    "- Space Complexity: $O(n)$"
   ]
  },
  {
   "cell_type": "code",
   "execution_count": 36,
   "metadata": {},
   "outputs": [
    {
     "name": "stdout",
     "output_type": "stream",
     "text": [
      "5\n"
     ]
    }
   ],
   "source": [
    "# create Tree Class\n",
    "class TreeNode:\n",
    "    def __init__(self,val, left=None, right=None):\n",
    "        self.val=val\n",
    "        self.left=left\n",
    "        self.right=right\n",
    "    def __str__(self): \n",
    "        return str(self.val)\n",
    "\n",
    "# create a general binary tree\n",
    "A= TreeNode(5)\n",
    "B= TreeNode(1)\n",
    "C= TreeNode(8)\n",
    "D= TreeNode(-1)\n",
    "E= TreeNode(3)\n",
    "F= TreeNode(7)\n",
    "G= TreeNode(9)\n",
    "\n",
    "A.left, A.right=B,C\n",
    "B.left,B.right=D,E\n",
    "C.left,C.right= F,G\n",
    "\n",
    "print(A)"
   ]
  },
  {
   "cell_type": "code",
   "execution_count": 37,
   "metadata": {},
   "outputs": [
    {
     "name": "stdout",
     "output_type": "stream",
     "text": [
      "-1\n",
      "1\n",
      "3\n",
      "5\n",
      "7\n",
      "8\n",
      "9\n"
     ]
    }
   ],
   "source": [
    "# BST inorder traversal\n",
    "in_order(A)"
   ]
  },
  {
   "cell_type": "code",
   "execution_count": 39,
   "metadata": {},
   "outputs": [
    {
     "data": {
      "text/plain": [
       "False"
      ]
     },
     "execution_count": 39,
     "metadata": {},
     "output_type": "execute_result"
    }
   ],
   "source": [
    "# BST search\n",
    "def search_bst(node, target): \n",
    "    if not node: \n",
    "        return False\n",
    "    if node.val==target: \n",
    "        return True\n",
    "    if node.val> target: \n",
    "        return search(node.left,target)\n",
    "    else: \n",
    "        return search(node.right, target)\n",
    "search(A, 4)"
   ]
  },
  {
   "cell_type": "markdown",
   "metadata": {},
   "source": [
    "## Sorting\n",
    "\n",
    "The sorting algorithms are used to sort a given array of numbers in an ascending order. There are many versions: \n",
    "\n",
    "- Insertion Sort\n",
    "- Bubble Sort\n",
    "- Merge Sort\n",
    "- Heap Sort"
   ]
  },
  {
   "cell_type": "markdown",
   "metadata": {},
   "source": [
    "### Heap Sort\n",
    "\n",
    "One of the most common and efficient sorting algorithms is a heap sort where we just keep popping starting from the root node. The complexities are as follows: \n",
    "\n",
    "- Time Complexity: $O(nlogn)$ since we do a heap pop for $n$ nodes.\n",
    "- Space Complexity: $O(1)$ in certain conditions or $O(n)$"
   ]
  },
  {
   "cell_type": "code",
   "execution_count": 51,
   "metadata": {},
   "outputs": [
    {
     "data": {
      "text/plain": [
       "[0, 1, 2, 3, 4, 5, 6, 7, 8, 9]"
      ]
     },
     "execution_count": 51,
     "metadata": {},
     "output_type": "execute_result"
    }
   ],
   "source": [
    "# heap sort algorithm\n",
    "def heapsort(arr): \n",
    "    heapq.heapify(arr)\n",
    "    n=len(arr)\n",
    "    new_list=[0]*n #create empty array of length number of nodes\n",
    "    \n",
    "    for i in range (n): \n",
    "        minn=heapq.heappop(arr)\n",
    "        new_list[i]= minn\n",
    "        \n",
    "    return new_list\n",
    "heapsort([1,3,5,7,9,2,4,6,8,0])"
   ]
  },
  {
   "cell_type": "markdown",
   "metadata": {
    "jp-MarkdownHeadingCollapsed": true
   },
   "source": [
    "## Graph Search\n",
    "\n",
    "The graph search algorithms are used to traverse a graph in search of some element. Similar to tree search, there are two main types: \n",
    "\n",
    "- Depth First Search\n",
    "- Breadth First Search"
   ]
  },
  {
   "cell_type": "markdown",
   "metadata": {},
   "source": [
    "### Depth First Search\n",
    "\n",
    "In DFS, we keep going down one path. \n",
    "\n",
    "- Initialize a node and a seen list\n",
    "- Keep going down a specific path while adding seen items.\n",
    "- Once we encounter a seen item again, take another path (helps avoid cyclicity)\n",
    "\n",
    "It can be two types- recursive DFS and iterative DFS. The complexities are as follows: \n",
    "\n",
    "- Time Complexity: $O(V+E)$ since for each vertice we note it's connected nodes\n",
    "- Space Complexity $O(V+E)$"
   ]
  },
  {
   "cell_type": "markdown",
   "metadata": {},
   "source": [
    "### Breadth First Search\n",
    "\n",
    "In BFS, we look at all possible paths for a given node. \n",
    "\n",
    "- Initialize queue and seen list.\n",
    "- Add a node to queue and then add possible connected nodes.\n",
    "- Process the original node.\n",
    "\n",
    "The complexities are as follows: \n",
    "\n",
    "- Time Complexity: $O(V+E)$ since for each vertice we note it's connected nodes\n",
    "- Space Complexity $O(V+E)$"
   ]
  },
  {
   "cell_type": "code",
   "execution_count": null,
   "metadata": {},
   "outputs": [],
   "source": []
  },
  {
   "cell_type": "markdown",
   "metadata": {
    "jp-MarkdownHeadingCollapsed": true
   },
   "source": [
    "## Recursive Backtracking\n",
    "\n",
    "In this algorithm, we implement a decision following which implement recursion until we hit base case and undo our initial decision. The most common problem is the subset problem. \n",
    "\n",
    "The complexities are as follows: \n",
    "\n",
    "- Time Complexity: $O(2^n)$\n",
    "- Space Complexity: $O(n)$ "
   ]
  },
  {
   "cell_type": "code",
   "execution_count": 3,
   "metadata": {},
   "outputs": [
    {
     "data": {
      "text/plain": [
       "[[], [3], [2], [2, 3], [1], [1, 3], [1, 2], [1, 2, 3]]"
      ]
     },
     "execution_count": 3,
     "metadata": {},
     "output_type": "execute_result"
    }
   ],
   "source": [
    "# depth first search for finding subset\n",
    "def subsets(nums:list[int])->list[list[int]]:\n",
    "    n=len(nums)\n",
    "    # initial subset list\n",
    "    res=[] \n",
    "    # temporary recursion list\n",
    "    sol= []\n",
    "    def backtrack(i): \n",
    "        if i==n: \n",
    "            res.append(sol[:])\n",
    "            return\n",
    "        # \n",
    "        # not pick nums[i]\n",
    "        backtrack(i+1)\n",
    "        # pick nums[i]\n",
    "        sol.append(nums[i])\n",
    "        backtrack(i+1)\n",
    "        sol.pop()\n",
    "    backtrack(0)\n",
    "    return res\n",
    "subsets([1,2,3])"
   ]
  },
  {
   "cell_type": "markdown",
   "metadata": {
    "jp-MarkdownHeadingCollapsed": true
   },
   "source": [
    "## Dynamic Programming\n",
    "\n",
    "The dynamic programming algorithm is based on breaking down complex subproblems into simpler ones. It consists of four main parts through which we arrive at the final algorithm: \n",
    "\n",
    "1. Naive Recursion at $TC/SC= O(2^n)$\n",
    "2. Top Down Recursion (Memoization) at $TC/SC= O(n)$\n",
    "3. Bottom Up Iteration (Tabulation) at $TC/SC= O(n)$\n",
    "4. Optional: Constant Space Iteration at $TC= O(n)$ and $SC= O(1)$"
   ]
  },
  {
   "cell_type": "code",
   "execution_count": null,
   "metadata": {},
   "outputs": [],
   "source": [
    "# Step 1: Naive Recursion\n",
    "def fib(n:int)-> int:\n",
    "    '''Given a position n, it calculates the Fibonacci sequence element for that position\n",
    "    fib(0)= 0, fib(1)= 1, fib(2)=0 + 1...'''\n",
    "    if n==0:\n",
    "        return 0\n",
    "    if n==1: \n",
    "        return 1\n",
    "    if n>1: \n",
    "        return fib(n-1) + fib(n-2)  "
   ]
  },
  {
   "cell_type": "code",
   "execution_count": null,
   "metadata": {},
   "outputs": [],
   "source": [
    "# Step 2: Memoization\n",
    "def fib(n:int)-> int:\n",
    "    '''Given a position n, it calculates the Fibonacci sequence element for that position\n",
    "    fib(0)= 0, fib(1)= 1, fib(2)=0 + 1...'''\n",
    "    memo={0:0,1:1}\n",
    "    def f(x): \n",
    "        if x in memo: \n",
    "            return memo[x]\n",
    "        else: \n",
    "            memo[x]= f(x-1)+f(x-2)\n",
    "            return memo[x]\n",
    "    return f(n)"
   ]
  },
  {
   "cell_type": "code",
   "execution_count": null,
   "metadata": {},
   "outputs": [],
   "source": [
    "# Step 3: Tabulation\n",
    "def fib(n:int)-> int:\n",
    "    '''Given a position n, it calculates the Fibonacci sequence element for that position\n",
    "    fib(0)= 0, fib(1)= 1, fib(2)=0 + 1...'''\n",
    "    if n==0:\n",
    "        return 0\n",
    "    if n==1: \n",
    "        return 1\n",
    "        \n",
    "    dp=[0]*(n+1)\n",
    "    dp[0]=0\n",
    "    dp[1]=1\n",
    "    for i in range (2,n+1): \n",
    "        dp[i]=dp[i-2]+dp[i-2]\n",
    "    \n",
    "    return dp[n]"
   ]
  },
  {
   "cell_type": "code",
   "execution_count": 6,
   "metadata": {},
   "outputs": [],
   "source": [
    "# Step 4: Constant Space Iteratioj\n",
    "def fib(n:int)-> int:\n",
    "    '''Given a position n, it calculates the Fibonacci sequence element for that position\n",
    "    fib(0)= 0, fib(1)= 1, fib(2)=0 + 1...'''\n",
    "    if n==0:\n",
    "        return 0\n",
    "    if n==1: \n",
    "        return 1\n",
    "        \n",
    "    prev=0\n",
    "    cur=1\n",
    "    for i in range (2,n+1): \n",
    "        prev,cur= cur, prev+cur\n",
    "    \n",
    "    return cur"
   ]
  },
  {
   "cell_type": "markdown",
   "metadata": {},
   "source": [
    "## Binary Programming\n",
    "\n",
    "The binary programming algorithm is used to convert a decimal to a binary number\n",
    "\n",
    "General Algorithm: \n",
    "\n",
    "- The number is divided by 2 and we get the quotient and remainder.\n",
    "- The remainder is stored\n",
    "- The quotient is divided by 2 again and store remainder\n",
    "- The process is repeated until our quotient is 1\n",
    "- The list of remainders gives us the binary.\n",
    "- We pad it with zeros as needed to fit into 4bit/8bit/16bit\n",
    "\n",
    "Two's Complement:\n",
    "\n",
    "- The two complement form is used to store negative decimal number for easier operations \n",
    "- The output of general algorithm is taken and each digit is flipped.\n",
    "- We add 1 to the output.\n",
    "\n",
    "Common Bitwise Operations: \n",
    "\n",
    "- And $\\&$\n",
    "- Or $|$\n",
    "- Xor $\\bigoplus$\n",
    "- Not $~$\n",
    "- Leftshift $<<$\n",
    "- Rightshift $>>$ (Logical or Arithmetic)"
   ]
  },
  {
   "cell_type": "code",
   "execution_count": 8,
   "metadata": {},
   "outputs": [
    {
     "name": "stdout",
     "output_type": "stream",
     "text": [
      "101\n",
      "5\n",
      "5\n",
      "7\n",
      "2\n",
      "-6\n",
      "20\n",
      "2\n"
     ]
    }
   ],
   "source": [
    "# decimal to binary\n",
    "print(bin(5)[2:])\n",
    "\n",
    "# binary to decimal\n",
    "bin_5='101'\n",
    "print(int(bin_5,2))\n",
    "\n",
    "# bitwise and\n",
    "print(5 & 7)\n",
    "\n",
    "# bitwise or\n",
    "print(5|7)\n",
    "\n",
    "# bitwise xor\n",
    "print(5^7)\n",
    "\n",
    "# bitwise not\n",
    "print(~5)\n",
    "\n",
    "# leftshift\n",
    "print(5<<2)\n",
    "\n",
    "# rightshift\n",
    "print(5 >>1)"
   ]
  },
  {
   "cell_type": "markdown",
   "metadata": {},
   "source": [
    "# Leetcode\n",
    "\n",
    "For each given type of data structure, there are algorithms that are typically used to solve those problems. \n",
    "\n",
    "Tips: \n",
    "\n",
    "1. Try solving problem in 15 mins. If it doesn't work, check solution move on.\n",
    "2. Come back a week later to solve. "
   ]
  },
  {
   "cell_type": "markdown",
   "metadata": {},
   "source": [
    "## Arrays and Strings\n",
    "\n",
    "There are three most common algorithms for problems with arrays/strings as input: \n",
    "\n",
    "- Two Pointer Algorithm\n",
    "- Sliding Window Algorithm\n",
    "- Prefix Sum Algorithm"
   ]
  },
  {
   "cell_type": "markdown",
   "metadata": {},
   "source": [
    "### Two Pointer Algorithm\n",
    "\n",
    "For a given iterable input: \n",
    "\n",
    "- We initialize two pointers at two different points in the array\n",
    "- Depending on problem, we check some condition and keep moving pointers as needed\n",
    "- Once condition is met, we return the output.\n",
    "\n",
    "A typical implementation: \n",
    "\n",
    "    function fn(arr):\n",
    "    left = 0\n",
    "    right = arr.length - 1\n",
    "    while left < right:\n",
    "        Do some logic here depending on the problem\n",
    "        Do some more logic here to decide on one of the following:\n",
    "            1. left++\n",
    "            2. right--\n",
    "            3. Both left++ and right--\n",
    "\n",
    "Some common problems: \n",
    "\n",
    "- Given an array/string, determine whether it is a palindrome\n",
    "- Given an array, determine whether it contains two integers that sum to a target integer\n",
    "- Given two arrays/strings, create a new combined sorted array\n",
    "- Given two arrays/strings, determine whether one is a subsequence of the other"
   ]
  },
  {
   "cell_type": "code",
   "execution_count": null,
   "metadata": {},
   "outputs": [],
   "source": []
  },
  {
   "cell_type": "markdown",
   "metadata": {},
   "source": [
    "### Sliding Window Algorithm\n",
    "\n",
    "For a given iterable input, the aim is to find the best valid subarray or number of valid subarrays.\n",
    "\n",
    "- For an array, a subarray is a contiguous section of the array defined by the starting and ending indices from original array.\n",
    "- The subarray has to be valid where validity refers to satisfying a numeric constraint metric (length more than 10, sum of elements is 10 etc)\n",
    "- The subarray has to be the best according to the given criteria (usually the longest is best)\n",
    "\n",
    "A typical implementation: \n",
    "\n",
    "    function fn(arr):\n",
    "    left = 0\n",
    "    for (int right = 0; right < arr.length; right++):\n",
    "        Do some logic to \"add\" element at arr[right] to window\n",
    "\n",
    "        while WINDOW_IS_INVALID:\n",
    "            Do some logic to \"remove\" element at arr[left] from window\n",
    "            left++\n",
    "\n",
    "        Do some logic to update the answer\n",
    "\n",
    "\n",
    "Some common problems: \n",
    "\n",
    "- Given an array, find longest subarray with sum less than or equal to $k$\n",
    "- Given a string, find longest substring with at most one integer $n$\n",
    "- Given an array, find number of subarrays that have a product less than $k$"
   ]
  },
  {
   "cell_type": "code",
   "execution_count": null,
   "metadata": {},
   "outputs": [],
   "source": []
  },
  {
   "cell_type": "markdown",
   "metadata": {},
   "source": [
    "### Prefix Sum Algorithm"
   ]
  },
  {
   "cell_type": "code",
   "execution_count": null,
   "metadata": {},
   "outputs": [],
   "source": []
  }
 ],
 "metadata": {
  "kernelspec": {
   "display_name": "aienv",
   "language": "python",
   "name": "aienv"
  },
  "language_info": {
   "codemirror_mode": {
    "name": "ipython",
    "version": 3
   },
   "file_extension": ".py",
   "mimetype": "text/x-python",
   "name": "python",
   "nbconvert_exporter": "python",
   "pygments_lexer": "ipython3",
   "version": "3.10.15"
  }
 },
 "nbformat": 4,
 "nbformat_minor": 4
}

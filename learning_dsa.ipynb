{
 "cells": [
  {
   "cell_type": "markdown",
   "metadata": {
    "jp-MarkdownHeadingCollapsed": true
   },
   "source": [
    "## Big O Notation\n",
    "\n",
    "The Big O Notation, also known as the Bachman-Landau notation or the asymptotic notation, describes the limiting behaviour of a function when the argument tends to a particular number or infinity. \n",
    "\n",
    "In the context of computer science, the notation is used to describe how the time and space (memory) requirements of algorithms change with the input size. "
   ]
  },
  {
   "cell_type": "markdown",
   "metadata": {
    "jp-MarkdownHeadingCollapsed": true
   },
   "source": [
    "### Time Complexity\n",
    "\n",
    "The time complexity of a given algorithm indicates the changing time requirements with input size. \n",
    "\n",
    "For example: \n",
    "\n",
    "1. Given an array of length N, finding the elements at specific indexes will need us to just access those specific elements requiring $O(1)$ or constant time complexity. \n",
    "2. Given a array of length N, finding squares of each element will need us to go through N elements requiring $O(N)$ time or linear time complexity.\n",
    "3. Given the same array, finding the unique combinations of all elements will need us to loop through the array and also loop through the array for each element in the array requiring $O(N^2)$ time or exponential time complexity.\n",
    "\n",
    "Graphical View: If we plot N on X-axis and number of operations on Y-axis, then example 1 will be a constant horizontal graph, example 2 will be a linear graph while example 3 will be an exponential graph (which is usually the worst case time complexity). "
   ]
  },
  {
   "cell_type": "markdown",
   "metadata": {
    "jp-MarkdownHeadingCollapsed": true
   },
   "source": [
    "### Space Complexity\n",
    "\n",
    "The space complexity of a given algorithm indicates the changing space requirements of the algorithm as the input size grows. \n",
    "\n",
    "For example, given an array of length N and task of finding squares of each element, we can store the square for the N elements requiring $O(N)$ linear space complexity. We could also modify the array itself in which case we don't need any new space and have $O(1)$ or a constant space complexity. "
   ]
  },
  {
   "cell_type": "markdown",
   "metadata": {},
   "source": [
    "### Visualizing Complexities\n",
    "\n",
    "<img src=\"images/bigo_chart.webp\" \n",
    "        alt=\"Picture\" \n",
    "        width=\"800\" \n",
    "        height=\"800\" \n",
    "        style=\"display: block; margin: 0 auto\" />\n",
    "\n",
    "Image Source: [Hanwen Zhang's blogpost](https://hanwenzhang123.medium.com/big-o-notation-overview-with-time-and-space-complexity-f60a8a24772) "
   ]
  },
  {
   "cell_type": "markdown",
   "metadata": {
    "jp-MarkdownHeadingCollapsed": true
   },
   "source": [
    "## Arrays\n",
    "\n",
    "Arrays are mutable linear data structures consisting of elements (values or variables) stored sequentially in a contiguous memory block. The most typical operations in arrays include: \n",
    "\n",
    "1. Finding elements at an index ($O(1)$)\n",
    "2. Finding index of an element ($O(N)$ in worst case scenario)\n",
    "\n",
    "Static Array: It is an array with fixed length. Example: An array of length 5 where inserting an element would lead to loss of an element. \n",
    "\n",
    "Dynamic Array: It is an array with adjustable length. Example: An array of length 5 where inserting a new element is possible without loss of any element. \n",
    "\n",
    "Note: Python only has dynamic arrays implemented as multiple static arrays over time under the hood. To accommodate new elements, the size of array is doubled at every step so appending at end is $*O(1)$ since there's usually space while insertion at random position is $O(N)$ since other elements need to be copied and shifted to make new array."
   ]
  },
  {
   "cell_type": "code",
   "execution_count": 10,
   "metadata": {},
   "outputs": [
    {
     "name": "stdout",
     "output_type": "stream",
     "text": [
      "[1, 2, 3]\n",
      "1\n",
      "[7, 2, 3]\n",
      "[7, 2, 3, 5]\n",
      "[7, 2, 5, 3, 5]\n",
      "[7, 2, 5, 3]\n",
      "No\n",
      "4\n"
     ]
    }
   ],
   "source": [
    "# Array Operations\n",
    "\n",
    "A= [1,2,3]\n",
    "print(A)\n",
    "\n",
    "# accessing- O(1) \n",
    "print(A[0])\n",
    "\n",
    "# modifying not at end - O(1)\n",
    "A[0]= 7\n",
    "print(A)\n",
    "\n",
    "# inserting at end- O(1) mostly\n",
    "A.append(5)\n",
    "print(A)\n",
    "\n",
    "# inserting not at end- O(n)\n",
    "A.insert (2,5) # insert 5 at position 2 \n",
    "print(A)\n",
    "\n",
    "# deleting at end - O(1)\n",
    "A.pop(len(A)-1) #del at last index\n",
    "print(A)\n",
    "\n",
    "# checking if in array - O(N)\n",
    "print (\"Yes\") if 6 in A else print (\"No\")\n",
    "\n",
    "# check len -O(1)\n",
    "print(len(A))"
   ]
  },
  {
   "cell_type": "markdown",
   "metadata": {
    "jp-MarkdownHeadingCollapsed": true
   },
   "source": [
    "## Strings\n",
    "\n",
    "Strings are similar to arrays (they consist of individual elements in contiguous memory block) but are immutable (atleast in Python). "
   ]
  },
  {
   "cell_type": "code",
   "execution_count": 12,
   "metadata": {},
   "outputs": [
    {
     "name": "stdout",
     "output_type": "stream",
     "text": [
      "Hello\n",
      "H\n",
      "Yes\n",
      "5\n"
     ]
    }
   ],
   "source": [
    "# String Operations\n",
    "\n",
    "S= \"Hello\"\n",
    "print(S)\n",
    "\n",
    "# accessing -O(1)\n",
    "print(S[0])\n",
    "\n",
    "# checking if in array - O(N)\n",
    "print (\"Yes\") if \"e\" in S else print (\"No\")\n",
    "\n",
    "# check len -O(1)\n",
    "print(len(S))\n",
    "\n",
    "# modifying, inserting, deleting only possible with new string creation- O(n)"
   ]
  },
  {
   "cell_type": "markdown",
   "metadata": {},
   "source": [
    "### Complexities for Arrays & Strings\n",
    "\n",
    "<img src=\"images/array_complexities.jpeg\" \n",
    "        alt=\"Picture\" \n",
    "        width=\"500\" \n",
    "        height=\"500\" \n",
    "        style=\"display: block; margin: 0 auto\" />\n",
    "        \n",
    "Image Source: [Gregg Hogg's YT video](https://youtu.be/TQMvBTKn2p0?si=J2z0uZ8q6CnkXTX_) "
   ]
  },
  {
   "cell_type": "markdown",
   "metadata": {
    "jp-MarkdownHeadingCollapsed": true
   },
   "source": [
    "## Linked Lists\n",
    "\n",
    "Linked lists are linear data structures consisting of nodes with elements in them. The nodes are not contiguous but linked to each other via pointers/references. \n",
    "\n",
    "- Node: The node indicates an address in memory (Class Node)\n",
    "- Head Node: The node which comes first in the linked list and is referred to by the head pointer\n",
    "- Tail Node: The node which comes last and refers to a `None` object to indicate the end of the list.\n",
    "- Value: The values or elements are stored in these nodes (node.value)\n",
    "- Pointers/ References: Each node is linked to another via references (node.next)"
   ]
  },
  {
   "cell_type": "markdown",
   "metadata": {},
   "source": [
    "###  Types of Linked Lists\n",
    "\n",
    "1. Singly Linked Lists: In singly linked lists, we only have one link between nodes going in a direction starting from head\n",
    "2. Doubly linked lists: In doubly linked lists, we have both head and tails and thus links going in two directions. This is useful for deletion operations at end so that deleting a node and references still leaves a reference to reassign."
   ]
  },
  {
   "cell_type": "markdown",
   "metadata": {},
   "source": [
    "### Operations of Linked Lists\n",
    "\n",
    "The linked list structure differs from arrays since we now no longer have indices to traverse but references.\n",
    "\n",
    "- Access/Lookup: For doing these, we need to traverse from head and go X steps which makes all of these a O(n) or O(i) operation where i is the position where we want to perform the operations. \n",
    "\n",
    "Note: One major advantage of linked lists is that, unlike arrays, insertion or deletion doesn't require shifting and thus can be done in O(1) time while one major disadvantage is that accessing individual elements is no longer O(n) since there are no direct indices."
   ]
  },
  {
   "cell_type": "code",
   "execution_count": 60,
   "metadata": {},
   "outputs": [],
   "source": [
    "# Singly Linked List\n",
    "\n",
    "# defining the node class\n",
    "class SLLNode(): \n",
    "    \n",
    "    # defining initialization of instance\n",
    "    def __init__(self,val,nex=None):\n",
    "        self.val= val\n",
    "        self.nex= nex\n",
    "        \n",
    "    # defining print view of instance  \n",
    "    def __str__(self): \n",
    "        return str(self.val)\n",
    "\n",
    "# creating nodes for the list\n",
    "Head= SLLNode(1)\n",
    "A=SLLNode(3)\n",
    "B=SLLNode(4)\n",
    "C=SLLNode(7)\n",
    "\n",
    "# creating references\n",
    "Head.nex=A\n",
    "A.nex=B\n",
    "B.nex=C"
   ]
  },
  {
   "cell_type": "code",
   "execution_count": 61,
   "metadata": {},
   "outputs": [
    {
     "name": "stdout",
     "output_type": "stream",
     "text": [
      "1->3->4->7\n",
      "1\n",
      "3\n",
      "4\n",
      "7\n",
      "The given value is at node 7.\n"
     ]
    }
   ],
   "source": [
    "# Common operations in SLL\n",
    "\n",
    "# Displaying in O(n)\n",
    "# defining function\n",
    "def display(head):\n",
    "    curr=head\n",
    "    values=[]\n",
    "    while curr:\n",
    "        values.append(str(curr.val))\n",
    "        curr=curr.nex\n",
    "    print('->'.join(values))\n",
    "# calling the display function\n",
    "display(Head)\n",
    "\n",
    "# Traversal in O(n)\n",
    "curr=Head\n",
    "while curr:  #loop ends when curr=None for the last node\n",
    "    print(curr)\n",
    "    curr=curr.nex\n",
    "\n",
    "# Lookup for node value in O(n)\n",
    "value= 7\n",
    "curr=Head\n",
    "while curr:\n",
    "    if value==curr.val:\n",
    "        print(f\"The given value is at node {curr}.\")\n",
    "    curr=curr.nex"
   ]
  },
  {
   "cell_type": "code",
   "execution_count": 10,
   "metadata": {},
   "outputs": [],
   "source": [
    "# Doubly Linked list\n",
    "\n",
    "# defining the node class\n",
    "class DLLNode(): \n",
    "\n",
    "    def __init__(self, val, nex =None, prev=None): \n",
    "        self.val=val\n",
    "        self.nex=nex\n",
    "        self.prev=prev\n",
    "        \n",
    "    def __str__(self):\n",
    "        return str(self.val)\n",
    "\n",
    "# creating nodes \n",
    "Head=DLLNode(1)\n",
    "A=DLLNode(3)\n",
    "B=DLLNode(4)\n",
    "Tail= DLLNode(7)\n",
    "\n",
    "# creating references \n",
    "Head.nex=A\n",
    "A.nex=B\n",
    "A.prev=Head\n",
    "B.nex=Tail\n",
    "B.prev=A\n",
    "Tail.prev=B"
   ]
  },
  {
   "cell_type": "code",
   "execution_count": 11,
   "metadata": {},
   "outputs": [
    {
     "name": "stdout",
     "output_type": "stream",
     "text": [
      "1<->3<->4<->7\n",
      "0<->1<->3<->4<->7\n",
      "7\n",
      "0<->1<->3<->4<->7<->9\n"
     ]
    }
   ],
   "source": [
    "# Common operations in DLL\n",
    "\n",
    "# Displaying in O(n)\n",
    "# defining function\n",
    "def display(head):\n",
    "    curr=head\n",
    "    values=[]\n",
    "    while curr:\n",
    "        values.append(str(curr.val))\n",
    "        curr=curr.nex\n",
    "    print('<->'.join(values))\n",
    "# calling the display function\n",
    "display(Head)\n",
    "\n",
    "# Insertion at beginning in O(1)\n",
    "def in_begin(head,val): \n",
    "    newhead=DLLNode(val,nex=head)\n",
    "    head.prev= newhead\n",
    "    return newhead\n",
    "newhead=in_begin(Head,0)\n",
    "display(newhead)\n",
    "\n",
    "\n",
    "# Insertion at end in O(n)\n",
    "def in_end(head,val): \n",
    "    newtail=DLLNode(9)\n",
    "    curr=head\n",
    "    while curr.nex: \n",
    "        curr=curr.nex\n",
    "    curr.nex=newtail\n",
    "    newtail.prev=curr\n",
    "    return head   \n",
    "newtail=in_end(newhead,9)\n",
    "display(newtail)"
   ]
  },
  {
   "cell_type": "markdown",
   "metadata": {},
   "source": [
    "## Hash Tables\n",
    "\n",
    "Hashing involves the use of hash functions for converting data (such as strings or numbers) into fixed-size values called hash codes. These hash codes are used as indexes to store the data in data structures called hash tables. \n",
    "\n",
    "\n",
    "There can be collisions in which case they are solved by linear probing as $*O(1)$\n",
    "\n",
    "- We calculate possible position\n",
    "- Lookup position and if occupied, go to next position to check\n",
    "- Keep traversing until we find or end positions, returning boolean\n",
    "\n",
    "\n",
    "They are typically implemented in two ways- hash maps and hash sets."
   ]
  },
  {
   "cell_type": "markdown",
   "metadata": {
    "jp-MarkdownHeadingCollapsed": true
   },
   "source": [
    "### Hash Sets\n",
    "\n",
    "Hash sets map positions to elements\n",
    "\n",
    "- Lookups are usually $O(1)$ since we can search by position\n",
    "- However, in case multiple elements are at a position then each position contains a linked list of elements instead of one single element which leads to higher time complexity if we need to traverse linked list."
   ]
  },
  {
   "cell_type": "code",
   "execution_count": 2,
   "metadata": {},
   "outputs": [
    {
     "name": "stdout",
     "output_type": "stream",
     "text": [
      "True\n",
      "1\n",
      "2\n"
     ]
    }
   ],
   "source": [
    "# Hash set\n",
    "s=set()\n",
    "\n",
    "# add at O (1)\n",
    "s.add (1)\n",
    "s.add(2)\n",
    "s.add (3)\n",
    "\n",
    "# remove at O(1)\n",
    "s.remove(3)\n",
    "\n",
    "# lookup at O(1)\n",
    "if 1 in s:\n",
    "    print(True)\n",
    "\n",
    "# loop over items in set- O(n)\n",
    "for item in s:\n",
    "    print(item)\n"
   ]
  },
  {
   "cell_type": "markdown",
   "metadata": {
    "jp-MarkdownHeadingCollapsed": true
   },
   "source": [
    "### Hash Maps\n",
    "\n",
    "Hash maps map keys to elements where the keys must be hashable i.e immutable (integers, strings, tuples)\n",
    "\n",
    "- Lookups/Removals are $*O(1)$ since\n",
    "- Addition is $O(1)$"
   ]
  },
  {
   "cell_type": "code",
   "execution_count": 6,
   "metadata": {},
   "outputs": [
    {
     "name": "stdout",
     "output_type": "stream",
     "text": [
      "<class 'set'>\n"
     ]
    }
   ],
   "source": [
    "string= \"aaaabbbccc\"\n",
    "s=set(string)\n",
    "print(set) # set construction O(S) at S -len(S)"
   ]
  },
  {
   "cell_type": "code",
   "execution_count": 3,
   "metadata": {},
   "outputs": [
    {
     "name": "stdout",
     "output_type": "stream",
     "text": [
      "True\n",
      "1\n",
      "greg:1\n",
      "steve:2\n",
      "rob:3\n",
      "arsh:4\n"
     ]
    }
   ],
   "source": [
    "# hashmaps\n",
    "d={'greg':1,'steve':2,'rob':3}\n",
    "\n",
    "# add in O(1)\n",
    "d['arsh']= 4\n",
    "\n",
    "# lookup in O(1) for key/val\n",
    "if 'greg' in d:\n",
    "    print(True)\n",
    "print(d['greg'])\n",
    "\n",
    "# loop over items in O(n)\n",
    "for k,v in d.items(): \n",
    "    print(f'{k}:{v}')"
   ]
  },
  {
   "cell_type": "code",
   "execution_count": 4,
   "metadata": {},
   "outputs": [
    {
     "data": {
      "text/plain": [
       "0"
      ]
     },
     "execution_count": 4,
     "metadata": {},
     "output_type": "execute_result"
    }
   ],
   "source": [
    "from collections import defaultdict\n",
    "\n",
    "default= defaultdict(int) # the automated hash map\n",
    "default[2]"
   ]
  },
  {
   "cell_type": "code",
   "execution_count": 7,
   "metadata": {},
   "outputs": [
    {
     "name": "stdout",
     "output_type": "stream",
     "text": [
      "Counter({'a': 4, 'b': 3, 'c': 3})\n"
     ]
    }
   ],
   "source": [
    "from collections import Counter\n",
    "counter=Counter(string)\n",
    "print(counter)"
   ]
  },
  {
   "cell_type": "markdown",
   "metadata": {},
   "source": [
    "## Stacks and Queues\n",
    "\n",
    "In stacks we are only concerned with whats on the end or right (last in first out LIFO)\n",
    "\n",
    "Append- increases size and complexity depends on implementation  like in arrays\n",
    "Pop- take off last element is always O(1)\n",
    "Peek at O(1)\n",
    "isempty at O(1)"
   ]
  },
  {
   "cell_type": "code",
   "execution_count": null,
   "metadata": {},
   "outputs": [],
   "source": [
    "# stack\n",
    "stk= []\n",
    "stk.append(5) \n",
    "x= stk.pop()\n",
    "stk[-1] # peek \n",
    "if stk:  #check if something in list at O(1)\n",
    "    print(True)"
   ]
  },
  {
   "cell_type": "markdown",
   "metadata": {},
   "source": [
    "Queues\n",
    "\n",
    "In stacks we are concerned with elements at the beginning (FIFO )\n",
    "\n",
    "Enqueue- add element at end in *O(1)\n",
    "Deque- pop element at beginning in O(1) for DLL while O(n) for arrays (due to moving around)"
   ]
  },
  {
   "cell_type": "code",
   "execution_count": null,
   "metadata": {},
   "outputs": [],
   "source": [
    "# double ended queue\n",
    "from collections import deque\n",
    "q=deque()\n",
    "prnt(q)\n",
    "\n",
    "# enqueue at O(1)\n",
    "q.append(5)\n",
    "q.append(6)\n",
    "print(q)\n",
    "\n",
    "#dequeue\n",
    "q.popleft() # at - O(1)\n",
    "\n",
    "# left peek at O(1)\n",
    "q[0]\n",
    "\n",
    "# right peek at O(1)\n",
    "q[-1]"
   ]
  }
 ],
 "metadata": {
  "kernelspec": {
   "display_name": "aienv",
   "language": "python",
   "name": "aienv"
  },
  "language_info": {
   "codemirror_mode": {
    "name": "ipython",
    "version": 3
   },
   "file_extension": ".py",
   "mimetype": "text/x-python",
   "name": "python",
   "nbconvert_exporter": "python",
   "pygments_lexer": "ipython3",
   "version": "3.10.15"
  }
 },
 "nbformat": 4,
 "nbformat_minor": 4
}

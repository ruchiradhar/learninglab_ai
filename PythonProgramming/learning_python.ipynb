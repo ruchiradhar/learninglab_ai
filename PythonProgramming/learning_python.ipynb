{
 "cells": [
  {
   "cell_type": "markdown",
   "id": "d4d208eb-4105-4430-a044-7f9276b79087",
   "metadata": {},
   "source": [
    "# Hello!\n",
    "\n",
    "In this notebook, we will cover some aspects of the Python programming language along with syntax. \n",
    "\n",
    "Here are some resources which I used while learning: \n",
    "1. [Krish Naik Python Bootcamp](https://github.com/krishnaik06/Complete-Python-Bootcamp)"
   ]
  },
  {
   "cell_type": "code",
   "execution_count": 7,
   "id": "355f1f63",
   "metadata": {},
   "outputs": [
    {
     "name": "stdout",
     "output_type": "stream",
     "text": [
      "Hello, World!\n"
     ]
    }
   ],
   "source": [
    "print(\"Hello, World!\")"
   ]
  },
  {
   "cell_type": "markdown",
   "id": "def8a59a-226b-4174-80ea-dbcb06dbeaae",
   "metadata": {},
   "source": [
    "## Why Python? \n",
    "\n",
    "It is one of the most popular programming languages, especially due to it's use in machine learning and AI. The reasons behind this are: \n",
    "\n",
    "- It is easy to use and works with more compact code.\n",
    "- It has multiple open source libraries (Numpy, Pandas, Scikit Learn, Seaborn) and frameworks (Pytorch, TensorFlow, Theanos).\n",
    "- It is widely used across academia and industry. "
   ]
  },
  {
   "cell_type": "markdown",
   "id": "e946382a",
   "metadata": {},
   "source": [
    "## Syntax and Semantics \n",
    "\n",
    "Syntax: It refers to the set of rules that defines the valid commands of Python i.e what they should look like.\n",
    "\n",
    "Semantics: It refers to the interpreted meaning of the commands in Python i.e what they should do. "
   ]
  },
  {
   "cell_type": "markdown",
   "id": "868c520b-32ec-453b-b2a8-c355d7016f5e",
   "metadata": {},
   "source": [
    "## Common Data Structures"
   ]
  },
  {
   "cell_type": "markdown",
   "id": "c7ffdc68-b0c2-48fa-b2bb-595063e5d030",
   "metadata": {
    "jp-MarkdownHeadingCollapsed": true
   },
   "source": [
    "### Boolean\n",
    "\n",
    "It refers to boolean valued variables like True and False"
   ]
  },
  {
   "cell_type": "markdown",
   "id": "3d326939",
   "metadata": {},
   "source": []
  },
  {
   "cell_type": "code",
   "execution_count": 8,
   "id": "c4fb3fca-9600-4431-8e79-059979fa835a",
   "metadata": {},
   "outputs": [
    {
     "name": "stdout",
     "output_type": "stream",
     "text": [
      "True\n",
      "<class 'bool'>\n",
      "True\n",
      "True\n",
      "True\n"
     ]
    }
   ],
   "source": [
    "# boolean function \n",
    "print(bool(1))\n",
    "# checking boolean type\n",
    "print(type (False))\n",
    "# inbuilt boolean valued str functions\n",
    "my_str= \"Hello\"\n",
    "print(my_str.isalnum()) #isalpha, isdigit\n",
    "print(my_str.istitle()) #isupper, is lower, isspace\n",
    "print(my_str.startswith('H')) # endswith"
   ]
  },
  {
   "cell_type": "code",
   "execution_count": 9,
   "id": "70894713-7bf2-4741-a925-dac9fac3acbb",
   "metadata": {},
   "outputs": [
    {
     "name": "stdout",
     "output_type": "stream",
     "text": [
      "False\n",
      "True\n"
     ]
    }
   ],
   "source": [
    "# boolean operators\n",
    "print(True and False)\n",
    "print(True or False)"
   ]
  },
  {
   "cell_type": "markdown",
   "id": "25b42f20-a56c-4206-96bd-55b607bdef2f",
   "metadata": {},
   "source": [
    "### List\n",
    "\n",
    "It is a mutable ordered sequence of elements"
   ]
  },
  {
   "cell_type": "code",
   "execution_count": 10,
   "id": "87d43a1d-db52-40ea-b29a-f88848870c44",
   "metadata": {},
   "outputs": [
    {
     "name": "stdout",
     "output_type": "stream",
     "text": [
      "[]\n",
      "[]\n",
      "['Mathematics', 'Chemistry']\n"
     ]
    }
   ],
   "source": [
    "# creating lists\n",
    "lst=list()\n",
    "print(lst)\n",
    "lst1=[]\n",
    "print(lst1)\n",
    "lst1= [\"Mathematics\",\"Chemistry\"]\n",
    "print(lst1)"
   ]
  },
  {
   "cell_type": "code",
   "execution_count": 11,
   "id": "25992258-e321-48cd-82b2-131ec3ba35c1",
   "metadata": {},
   "outputs": [
    {
     "ename": "SyntaxError",
     "evalue": "unterminated string literal (detected at line 5) (2462324372.py, line 5)",
     "output_type": "error",
     "traceback": [
      "  \u001b[36mCell\u001b[39m\u001b[36m \u001b[39m\u001b[32mIn[11]\u001b[39m\u001b[32m, line 5\u001b[39m\n\u001b[31m    \u001b[39m\u001b[31mlst1.insert(0,\"Physics)\u001b[39m\n                  ^\n\u001b[31mSyntaxError\u001b[39m\u001b[31m:\u001b[39m unterminated string literal (detected at line 5)\n"
     ]
    }
   ],
   "source": [
    "# list operations\n",
    "# insert at end\n",
    "lst1.append(\"History\")\n",
    "# insert at position\n",
    "lst1.insert(0,\"Physics)"
   ]
  }
 ],
 "metadata": {
  "kernelspec": {
   "display_name": "venv",
   "language": "python",
   "name": "python3"
  },
  "language_info": {
   "codemirror_mode": {
    "name": "ipython",
    "version": 3
   },
   "file_extension": ".py",
   "mimetype": "text/x-python",
   "name": "python",
   "nbconvert_exporter": "python",
   "pygments_lexer": "ipython3",
   "version": "3.12.0"
  }
 },
 "nbformat": 4,
 "nbformat_minor": 5
}

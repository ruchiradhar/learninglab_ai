{
 "cells": [
  {
   "cell_type": "markdown",
   "id": "d4d208eb-4105-4430-a044-7f9276b79087",
   "metadata": {
    "jp-MarkdownHeadingCollapsed": true
   },
   "source": [
    "# Welcome to Python!\n",
    "\n",
    "In this notebook, we will cover some aspects of the Python programming language along with syntax. \n",
    "\n",
    "Here are some resources which I used while learning: \n",
    "1. [Krish Naik Python Bootcamp](https://github.com/krishnaik06/Complete-Python-Bootcamp)\n",
    "2. [W3 Schools](https://www.w3schools.com/python/)"
   ]
  },
  {
   "cell_type": "code",
   "execution_count": 7,
   "id": "355f1f63",
   "metadata": {},
   "outputs": [
    {
     "name": "stdout",
     "output_type": "stream",
     "text": [
      "Hello, World!\n"
     ]
    }
   ],
   "source": [
    "print(\"Hello, World!\")"
   ]
  },
  {
   "cell_type": "markdown",
   "id": "d7f0949b-14e2-4977-b2eb-76113239d5ba",
   "metadata": {},
   "source": [
    "# Basics of Python"
   ]
  },
  {
   "cell_type": "markdown",
   "id": "def8a59a-226b-4174-80ea-dbcb06dbeaae",
   "metadata": {},
   "source": [
    "## Why Python? \n",
    "\n",
    "It is one of the most popular programming languages, especially due to it's use in machine learning and AI. The reasons behind this are: \n",
    "\n",
    "- It is easy to use and works with more compact code.\n",
    "- It has multiple open source libraries (Numpy, Pandas, Scikit Learn, Seaborn) and frameworks (Pytorch, TensorFlow, Theanos).\n",
    "- It is widely used across academia and industry. "
   ]
  },
  {
   "cell_type": "markdown",
   "id": "e946382a",
   "metadata": {
    "jp-MarkdownHeadingCollapsed": true
   },
   "source": [
    "## Syntax and Semantics \n",
    "\n",
    "Syntax: It refers to the set of rules that defines the valid commands of Python i.e what they should look like.\n",
    "\n",
    "Semantics: It refers to the interpreted meaning of the commands in Python i.e what they should do. "
   ]
  },
  {
   "cell_type": "code",
   "execution_count": 7,
   "id": "d7fac81c-de2a-471f-8396-c9fc07cc4f4a",
   "metadata": {},
   "outputs": [
    {
     "name": "stdout",
     "output_type": "stream",
     "text": [
      "6\n",
      "15\n",
      "True\n"
     ]
    }
   ],
   "source": [
    "# Basic Syntax\n",
    "\n",
    "# COMMENTS\n",
    "## Double Hash for single line comments\n",
    "## Triple quotes for multiline comments\n",
    "\n",
    "# INDENTATION\n",
    "## It is important for structure and hierarchy of code (especially loops)\n",
    "## Other languages mostly use {} to indicate code block but Python uses indentation\n",
    "\n",
    "# LINE CONTINUATION\n",
    "## \\ (backslash) can be used for line continuation\n",
    "total=1+2\\\n",
    "+3\n",
    "print(total)\n",
    "\n",
    "# LINE COMPRESSION\n",
    "## It is possible to write multiple statements in one line\n",
    "## The semicolon separator is used.\n",
    "x=5;y=10;total=x+y;print(total)\n",
    "\n",
    "# CASE SENSITIVITY\n",
    "## Python is case sensitive\n",
    "name= \"Ira\"\n",
    "Name= \"Ira\"\n",
    "print(name==Name)"
   ]
  },
  {
   "cell_type": "code",
   "execution_count": 6,
   "id": "6956037e-75ca-4b64-ad9d-355ab6dc019c",
   "metadata": {},
   "outputs": [
    {
     "name": "stdout",
     "output_type": "stream",
     "text": [
      "<class 'int'>\n",
      "<class 'float'>\n"
     ]
    }
   ],
   "source": [
    "# Basic Semantics\n",
    "\n",
    "# TYPE ASSIGNMENT\n",
    "## Variables in statements get their type assigned automatically with values\n",
    "var=10\n",
    "print(type(var))\n",
    "var=10.0\n",
    "print(type(var))"
   ]
  },
  {
   "cell_type": "markdown",
   "id": "23e2288a-ec07-4659-aa9c-e9fcbe5fee7e",
   "metadata": {
    "jp-MarkdownHeadingCollapsed": true
   },
   "source": [
    "## Variables\n",
    "\n",
    "Variables are fundamental elements in programming that are used to store data for reference and manipulation. \n",
    "\n",
    "1. In python, variable declaration happens automatically when we assign a value to the variable.\n",
    "2. In python, variables are dynamically typed i.e type of a variable is determined at runtime and can change automatically."
   ]
  },
  {
   "cell_type": "code",
   "execution_count": 10,
   "id": "2f39d869-0608-4a56-915b-a5d801fc857d",
   "metadata": {},
   "outputs": [
    {
     "name": "stdout",
     "output_type": "stream",
     "text": [
      "age:32\n",
      "<class 'int'>\n",
      "<class 'str'>\n"
     ]
    }
   ],
   "source": [
    "# naming conventions\n",
    "## variables should be descriptive\n",
    "## variables must start with letter or _\n",
    "## variables can contain letter, numbers or underscores\n",
    "\n",
    "# declaring and assigning variable\n",
    "age=32\n",
    "height=6.1\n",
    "name=\"Ruchira\"\n",
    "print(f'age:{age}')\n",
    "\n",
    "# type conversion\n",
    "age=25\n",
    "astr=str(age) # convert by calling existing type\n",
    "print(type(age))\n",
    "print(type(astr))"
   ]
  },
  {
   "cell_type": "markdown",
   "id": "868c520b-32ec-453b-b2a8-c355d7016f5e",
   "metadata": {
    "jp-MarkdownHeadingCollapsed": true
   },
   "source": [
    "## Datatypes\n",
    "\n",
    "Datatypes are a classification of data that is used to inform the compiler or interpreter on possible uses of data. In python, datatypes determine three important factors: \n",
    "\n",
    "- The permitted values that data can take\n",
    "- The permitted operations for the data\n",
    "- The amount of memory needed to store the data"
   ]
  },
  {
   "cell_type": "code",
   "execution_count": 15,
   "id": "79ba8bb5-2e27-4be1-bb11-433fb96c0495",
   "metadata": {},
   "outputs": [
    {
     "name": "stdout",
     "output_type": "stream",
     "text": [
      "<class 'int'>\n",
      "<class 'float'>\n",
      "<class 'str'>\n",
      "<class 'bool'>\n"
     ]
    }
   ],
   "source": [
    "## Integers\n",
    "age=12\n",
    "print(type(age))\n",
    "\n",
    "## Floats\n",
    "height=5.2\n",
    "print(type(height))\n",
    "\n",
    "## String\n",
    "name=\"Ira\"\n",
    "print(type(name))\n",
    "\n",
    "## Boolean\n",
    "true= bool()\n",
    "print(type(true))"
   ]
  },
  {
   "cell_type": "code",
   "execution_count": 14,
   "id": "c4fb3fca-9600-4431-8e79-059979fa835a",
   "metadata": {},
   "outputs": [
    {
     "name": "stdout",
     "output_type": "stream",
     "text": [
      "True\n",
      "True\n",
      "True\n"
     ]
    }
   ],
   "source": [
    "# Inbuilt String Functions\n",
    "my_str= \"Hello\"\n",
    "print(my_str.isalnum()) #isalpha, isdigit\n",
    "print(my_str.istitle()) #isupper, is lower, isspace\n",
    "print(my_str.startswith('H')) # endswith"
   ]
  },
  {
   "cell_type": "markdown",
   "id": "12730903-0491-4ef4-a2ee-5c1f798bc603",
   "metadata": {
    "jp-MarkdownHeadingCollapsed": true
   },
   "source": [
    "## Operators\n",
    "\n",
    "Operators refer to the kinds of manipulations that can be performed on different datatypes. In python, we have three types of operators: \n",
    "\n",
    "- Arithmetic Operators\n",
    "- Comparison Operators\n",
    "- Logical Operators"
   ]
  },
  {
   "cell_type": "code",
   "execution_count": 17,
   "id": "497088ae-917b-4bcb-8cfd-02d01deed5cc",
   "metadata": {},
   "outputs": [
    {
     "name": "stdout",
     "output_type": "stream",
     "text": [
      "12\n",
      "8\n",
      "20\n",
      "5.0\n",
      "5\n",
      "0\n",
      "100\n"
     ]
    }
   ],
   "source": [
    "# Arithmetic Operators\n",
    "a=10\n",
    "b=2\n",
    "\n",
    "## addition\n",
    "add=a+b\n",
    "print(add)\n",
    "\n",
    "## subtraction\n",
    "sub=a-b\n",
    "print(sub)\n",
    "\n",
    "## multiplication\n",
    "mul=a*b\n",
    "print(mul)\n",
    "\n",
    "## division\n",
    "div=a/b\n",
    "print(div)\n",
    "\n",
    "## floor division\n",
    "fdiv=a//b # rounds off to nearest integer\n",
    "print(fdiv)\n",
    "\n",
    "## modulus\n",
    "mod=a%b # gives remainder\n",
    "print(mod)\n",
    "\n",
    "## exponentiation\n",
    "exp=a**b\n",
    "print(exp)"
   ]
  },
  {
   "cell_type": "code",
   "execution_count": 19,
   "id": "a1ee1afb-415e-4a31-b468-ee2536b7d7b7",
   "metadata": {},
   "outputs": [
    {
     "name": "stdout",
     "output_type": "stream",
     "text": [
      "False\n",
      "True\n",
      "True\n",
      "False\n"
     ]
    }
   ],
   "source": [
    "# Comparison Operators\n",
    "a=3\n",
    "b=2\n",
    "\n",
    "## equal \n",
    "print(a==b)\n",
    "\n",
    "## not equal\n",
    "print(a!=b)\n",
    "\n",
    "## greater than (also greater than or equal to as >=)\n",
    "print(a>b)\n",
    "\n",
    "## lesser than (also lesser than or equal to as <=)\n",
    "print(a<b)"
   ]
  },
  {
   "cell_type": "code",
   "execution_count": 22,
   "id": "36a4d645-95e8-4edc-8aed-76d47ac10a63",
   "metadata": {},
   "outputs": [
    {
     "name": "stdout",
     "output_type": "stream",
     "text": [
      "True\n",
      "True\n",
      "False\n"
     ]
    }
   ],
   "source": [
    "# Logical Operators\n",
    "\n",
    "## AND (true only when both are true)\n",
    "x=True\n",
    "y=True\n",
    "print(x and y)\n",
    "\n",
    "## OR (true when any one is true)\n",
    "x=True\n",
    "y=False\n",
    "print(x or y)\n",
    "\n",
    "## NOT (reverses truth value)\n",
    "x=True\n",
    "print(not x)"
   ]
  },
  {
   "cell_type": "markdown",
   "id": "e31cce4b-86a4-4670-b7f4-45642e293646",
   "metadata": {
    "jp-MarkdownHeadingCollapsed": true
   },
   "source": [
    "## Data Structures"
   ]
  },
  {
   "cell_type": "markdown",
   "id": "25b42f20-a56c-4206-96bd-55b607bdef2f",
   "metadata": {},
   "source": [
    "### List\n",
    "\n",
    "It is a mutable ordered sequence of elements"
   ]
  },
  {
   "cell_type": "code",
   "execution_count": 10,
   "id": "87d43a1d-db52-40ea-b29a-f88848870c44",
   "metadata": {},
   "outputs": [
    {
     "name": "stdout",
     "output_type": "stream",
     "text": [
      "[]\n",
      "[]\n",
      "['Mathematics', 'Chemistry']\n"
     ]
    }
   ],
   "source": [
    "# creating lists\n",
    "lst=list()\n",
    "print(lst)\n",
    "lst1=[]\n",
    "print(lst1)\n",
    "lst1= [\"Mathematics\",\"Chemistry\"]\n",
    "print(lst1)"
   ]
  },
  {
   "cell_type": "code",
   "execution_count": 11,
   "id": "25992258-e321-48cd-82b2-131ec3ba35c1",
   "metadata": {},
   "outputs": [
    {
     "ename": "SyntaxError",
     "evalue": "unterminated string literal (detected at line 5) (2462324372.py, line 5)",
     "output_type": "error",
     "traceback": [
      "  \u001b[36mCell\u001b[39m\u001b[36m \u001b[39m\u001b[32mIn[11]\u001b[39m\u001b[32m, line 5\u001b[39m\n\u001b[31m    \u001b[39m\u001b[31mlst1.insert(0,\"Physics)\u001b[39m\n                  ^\n\u001b[31mSyntaxError\u001b[39m\u001b[31m:\u001b[39m unterminated string literal (detected at line 5)\n"
     ]
    }
   ],
   "source": [
    "# list operations\n",
    "# insert at end\n",
    "lst1.append(\"History\")\n",
    "# insert at position\n",
    "lst1.insert(0,\"Physics)"
   ]
  },
  {
   "cell_type": "markdown",
   "id": "9414eb6a-4c72-401d-9ba0-1d1eb9c1323d",
   "metadata": {},
   "source": [
    "## Control Flow"
   ]
  },
  {
   "cell_type": "code",
   "execution_count": 6,
   "id": "7ff8ec97-17b4-4642-ba88-ec082f795a52",
   "metadata": {},
   "outputs": [
    {
     "name": "stdout",
     "output_type": "stream",
     "text": [
      "Young\n",
      "-----X------\n"
     ]
    },
    {
     "name": "stdin",
     "output_type": "stream",
     "text": [
      "Enter the year 2013\n"
     ]
    },
    {
     "name": "stdout",
     "output_type": "stream",
     "text": [
      "It is not a leap year\n"
     ]
    }
   ],
   "source": [
    "# Conditional Statements\n",
    "## if statement \n",
    "## evaluates condition and executes code block accordingly\n",
    "\n",
    "## Example 1\n",
    "age=26\n",
    "if age>=20: # executed when condition True\n",
    "    print(\"Young\")\n",
    "elif age>=27: # executed when condition True\n",
    "    print(\"Not so young\")\n",
    "else:  # executed when all previous conditions False\n",
    "    print(\"Too young or too old\")\n",
    "\n",
    "print(\"-----X------\")\n",
    "\n",
    "## Example 2\n",
    "year=int(input(\"Enter the year\"))\n",
    "if year%4==0:\n",
    "    print(\"It is a leap year\")\n",
    "else: \n",
    "    print(\"It is not a leap year\")"
   ]
  },
  {
   "cell_type": "code",
   "execution_count": 7,
   "id": "9449f695-e2fa-434e-8676-58f3404b606f",
   "metadata": {},
   "outputs": [
    {
     "name": "stdout",
     "output_type": "stream",
     "text": [
      "0\n",
      "1\n",
      "2\n",
      "3\n",
      "4\n",
      "-----X------\n",
      "0\n",
      "1\n",
      "2\n",
      "3\n",
      "4\n"
     ]
    }
   ],
   "source": [
    "# Loops\n",
    "\n",
    "## for loop\n",
    "## executes for each item in an iterable\n",
    "for i in range(5):\n",
    "    print(i)\n",
    "\n",
    "print(\"-----X------\")\n",
    "\n",
    "## while loop\n",
    "## executes as long as condition is True\n",
    "## typically a number is incremented for each iteration\n",
    "count=0\n",
    "while count<5:\n",
    "    print(count)\n",
    "    count+=1"
   ]
  },
  {
   "cell_type": "code",
   "execution_count": null,
   "id": "c6f2fffa-9c40-4be2-a433-9b09f1aab96e",
   "metadata": {},
   "outputs": [],
   "source": [
    "# Exit Statements\n",
    "\n",
    "## break statement\n",
    "## it exits a loop prematurely\n",
    "for i in range \n",
    "\n",
    "## continue statement\n",
    "## it exits only the current iteration\n",
    "\n",
    "## pass statement\n",
    "## it indicates a null operation i.e does nothing"
   ]
  }
 ],
 "metadata": {
  "kernelspec": {
   "display_name": "Python 3 (ipykernel)",
   "language": "python",
   "name": "python3"
  },
  "language_info": {
   "codemirror_mode": {
    "name": "ipython",
    "version": 3
   },
   "file_extension": ".py",
   "mimetype": "text/x-python",
   "name": "python",
   "nbconvert_exporter": "python",
   "pygments_lexer": "ipython3",
   "version": "3.10.15"
  }
 },
 "nbformat": 4,
 "nbformat_minor": 5
}

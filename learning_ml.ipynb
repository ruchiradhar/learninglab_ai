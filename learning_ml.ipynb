{
 "cells": [
  {
   "cell_type": "markdown",
   "id": "907d2a69-b3f8-4a4f-81fd-fb552bfdcd42",
   "metadata": {},
   "source": [
    "## Naive Bayes\n",
    "\n",
    "Basic assumption: Features must be independent for naive bayes to apply. \n",
    "\n",
    "Advantages: It works well with a large number of features and sparse matrices.\n",
    "\n",
    "Disadvantages: Inadvertent correlation of features will lower performance. \n",
    "\n",
    "Feature Scaling: Not required\n",
    "\n",
    "Impact of missing values: Not impacted\n",
    "\n",
    "Impact of outliers: Not impacted\n",
    "\n",
    "Applications: NLP, Sentiment Analysis, Spam Classification"
   ]
  }
 ],
 "metadata": {
  "kernelspec": {
   "display_name": "aienv",
   "language": "python",
   "name": "aienv"
  },
  "language_info": {
   "codemirror_mode": {
    "name": "ipython",
    "version": 3
   },
   "file_extension": ".py",
   "mimetype": "text/x-python",
   "name": "python",
   "nbconvert_exporter": "python",
   "pygments_lexer": "ipython3",
   "version": "3.10.14"
  }
 },
 "nbformat": 4,
 "nbformat_minor": 5
}

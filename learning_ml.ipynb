{
 "cells": [
  {
   "cell_type": "markdown",
   "id": "955b0ffe-c5d7-47d2-9320-08f7cf065d34",
   "metadata": {
    "jp-MarkdownHeadingCollapsed": true
   },
   "source": [
    "# Machine Learning\n",
    "\n",
    "The main premise of discussion here is \"machine learning\" but what do we mean when we say learning? It refers to the process where models predict something, calculate how wrong they were and learn from their mistake by updating choices that led to the initial prediction. \n",
    "\n",
    "The typical machine learning loop looks like the following: \n",
    "\n",
    "1. **Forward Pass**: Given input x and parameter w, model predicts the output.\n",
    "2. **Loss Calculation**: The model calculates the loss i.e the difference between actual output and predicted output.\n",
    "4. **Backward Pass**: The model computes the blame of each parameter for loss i.e it calculates the derivative of the loss function wrt the parameters using local gradient computation and chain rule. \n",
    "5. **Optimization**: The model weights are updated to reduce loss using algorithms like gradient descent."
   ]
  },
  {
   "cell_type": "markdown",
   "id": "e9a88311-425e-42f6-934d-14bf1c76531c",
   "metadata": {},
   "source": [
    "### Example Setup\n",
    "\n",
    "- **Input**: $ x = 2 $\n",
    "- **Target Output/Label**: $10$\n",
    "- **Model Function**: $y= w \\times x$\n",
    "- **Initial Weight**:$ w = 3 $\n",
    "\n",
    "\n",
    "**Step 1: Forward Pass**\n",
    "\n",
    "$$\\text{prediction} = w \\times x = 3 \\times 2 = 6$$\n",
    "\n",
    "---\n",
    "\n",
    "**Step 2: Loss Calculation**\n",
    "\n",
    "Using the Mean Squared Error (MSE) loss function:\n",
    "\n",
    "$$\\text{loss} = (y - \\text{prediction})^2 = (10 - 6)^2 = 16$$\n",
    "\n",
    "---\n",
    "\n",
    "**Step 4: Backward Pass**\n",
    "\n",
    "\n",
    "- Derivative of Loss with respect to Prediction:\n",
    "\n",
    "   $$\\frac{\\partial \\text{loss}}{\\partial \\text{prediction}} = 2 \\times (y - \\text{prediction}) = 2 \\times (10 - 6) = 2 \\times 4 = 8$$\n",
    "\n",
    "- Derivative of Prediction with respect to Weight:\n",
    "\n",
    "   $$\\frac{\\partial \\text{prediction}}{\\partial w} = x = 2$$\n",
    "\n",
    "Using the chain rule, we get\n",
    "\n",
    "   $$\\frac{\\partial \\text{loss}}{\\partial w} = \\frac{\\partial \\text{loss}}{\\partial \\text{prediction}} \\times \\frac{\\partial \\text{prediction}}{\\partial w} = 8 \\times 2 = 16$$\n",
    "\n",
    "---\n",
    "\n",
    "**Step 5: Optimization**\n",
    "\n",
    "Using gradient descent with a learning rate $\\alpha = 0.1 $:\n",
    "\n",
    "$$w = w - \\alpha \\times \\frac{\\partial \\text{loss}}{\\partial w}$$\n",
    "\n",
    "Substitute the values:\n",
    "\n",
    "$$w = 3 - 0.1 \\times 16 = 3 - 1.6 = 1.4$$\n",
    "\n",
    "After this update, the new weight $ w $ is 1.4."
   ]
  },
  {
   "cell_type": "code",
   "execution_count": 18,
   "id": "cea401cf-11ae-4349-9334-e0b28d55317b",
   "metadata": {},
   "outputs": [
    {
     "name": "stdout",
     "output_type": "stream",
     "text": [
      "tensor(1., requires_grad=True)\n",
      "tensor(-2.)\n",
      "tensor(1.2000, grad_fn=<SubBackward0>)\n"
     ]
    }
   ],
   "source": [
    "# Simple ML Algorithm (One Training Loop)\n",
    "# defining inputs\n",
    "x=torch.tensor(1.)\n",
    "y=torch.tensor(2.0)\n",
    "w= torch.tensor(1.0,requires_grad=True)\n",
    "print(w)\n",
    "\n",
    "# forward pass\n",
    "y_hat= w*x\n",
    "\n",
    "# loss calculation\n",
    "loss=(y_hat-y)**2\n",
    "\n",
    "# backward pass\n",
    "# includes local grdaient computation\n",
    "loss.backward()\n",
    "print(w.grad) # the gradient of weight wrt loss\n",
    "\n",
    "# parameter update\n",
    "# use gradient descent\n",
    "alpha=0.1 #set learning rate\n",
    "w=w-alpha*w.grad\n",
    "print(w)"
   ]
  },
  {
   "cell_type": "markdown",
   "id": "8a39c3aa-f578-4ddc-a989-d694539f72c7",
   "metadata": {
    "jp-MarkdownHeadingCollapsed": true
   },
   "source": [
    "# Pytorch \n",
    "\n",
    "PyTorch is an important tensor library used for machine learning which supports differentiable vectors. So, let's take a look at some basic operations in pytorch tensors first. "
   ]
  },
  {
   "cell_type": "code",
   "execution_count": 1,
   "id": "1b79e33c-3eff-4ce9-90e3-42205d92fa0b",
   "metadata": {},
   "outputs": [],
   "source": [
    "import numpy as np\n",
    "import torch\n",
    "from torch import nn"
   ]
  },
  {
   "cell_type": "markdown",
   "id": "a6981332-4eb1-4e65-a63a-fdea66a9e3d5",
   "metadata": {
    "jp-MarkdownHeadingCollapsed": true
   },
   "source": [
    "## Basic Functions\n",
    "\n",
    "This includes some basic functions we can do with PyTorch tensors like creating tensors, operations and conversions. "
   ]
  },
  {
   "cell_type": "code",
   "execution_count": 2,
   "id": "a7a1bd3d-6f46-4273-993f-d448b264d686",
   "metadata": {},
   "outputs": [
    {
     "name": "stdout",
     "output_type": "stream",
     "text": [
      "tensor([[0., 0.],\n",
      "        [0., 0.]]) torch.float32 torch.Size([2, 2])\n",
      "tensor([[3, 4],\n",
      "        [5, 6]])\n",
      "tensor([[4, 3],\n",
      "        [8, 5]])\n",
      "tensor([[1., 3.],\n",
      "        [2., 5.]])\n",
      "tensor([[2, 3]])\n",
      "5\n",
      "tensor([[2],\n",
      "        [3],\n",
      "        [4],\n",
      "        [5]])\n",
      "tensor([[2, 3, 4, 5]])\n"
     ]
    }
   ],
   "source": [
    "# creating special tensors with given dimensions\n",
    "x= torch.empty(2,2) # also torch.rand(), torch.zeros(), torch.ones()\n",
    "print(x, x.dtype, x.size())\n",
    "\n",
    "# elementwise addition/subtraction\n",
    "# in torch all func_ formats will do inplace operations\n",
    "x=torch.tensor ([[2,3],[4,5]])\n",
    "y=torch.tensor ([[1,1],[1,1]])\n",
    "print(x+y) # also with x.add_(y) and torch.add(x,y)\n",
    "\n",
    "# elementwise multiplication/division\n",
    "x=torch.tensor ([[2,3],[4,5]])\n",
    "y=torch.tensor ([[2,1],[2,1]])\n",
    "print(torch.mul(x,y))\n",
    "print(torch.div(x,y))\n",
    "\n",
    "# slicing\n",
    "x=torch.tensor ([[2,3],[4,5]])\n",
    "print(x[:1,:])\n",
    "print(x[1,1].item()) # .item() can be used when tensor's single element is to be extracted\n",
    "\n",
    "# reshaping\n",
    "x=torch.tensor ([[2,3],[4,5]])\n",
    "y=x.view(4,1) #giving new dimensions\n",
    "print(y)\n",
    "z= x.view (-1,4)  # specifying one dim for reshape and -1 indicates no preference where torch will assume dim\n",
    "print(z)"
   ]
  },
  {
   "cell_type": "code",
   "execution_count": 3,
   "id": "d9272273-13d4-4aa5-abb1-ca4428558280",
   "metadata": {},
   "outputs": [
    {
     "name": "stdout",
     "output_type": "stream",
     "text": [
      "tensor([[1., 1.],\n",
      "        [1., 1.]])\n",
      "[[1. 1.]\n",
      " [1. 1.]]\n",
      "tensor([[2., 2.],\n",
      "        [2., 2.]]) [[2. 2.]\n",
      " [2. 2.]]\n",
      "[[1. 1. 1.]\n",
      " [1. 1. 1.]\n",
      " [1. 1. 1.]]\n",
      "tensor([[1., 1., 1.],\n",
      "        [1., 1., 1.],\n",
      "        [1., 1., 1.]], dtype=torch.float64)\n",
      "[[2. 2. 2.]\n",
      " [2. 2. 2.]\n",
      " [2. 2. 2.]] tensor([[2., 2., 2.],\n",
      "        [2., 2., 2.],\n",
      "        [2., 2., 2.]], dtype=torch.float64)\n"
     ]
    }
   ],
   "source": [
    "# tensor <> numpy conversion\n",
    "# if on cpu, then they both occupy same memory (can check with inplace addition on 1 and other is affected)\n",
    "# check gpu with torch.backends.mps.is_available() followed by device=torch.device and .to(device)\n",
    "a=torch.ones(2,2)\n",
    "print(a)\n",
    "b=a.numpy()\n",
    "print(b)\n",
    "a.add_(1) # inplace addition in torch\n",
    "print(a,b)\n",
    "\n",
    "c=np.ones([3,3])\n",
    "print(c)\n",
    "d=torch.from_numpy(c)\n",
    "print(d)\n",
    "c+=(1) # inplace addition in numpy\n",
    "print(c,d)"
   ]
  },
  {
   "cell_type": "markdown",
   "id": "7e614ea8-90ab-41ae-a32e-93676060653e",
   "metadata": {
    "jp-MarkdownHeadingCollapsed": true
   },
   "source": [
    "## Differentiability\n",
    "\n",
    "In the context of machine learning, the backpropagation or backward pass requires the calculation of gradients for model parameters. In torch, gradient calculation is not automatically done but needs to be prespecified. "
   ]
  },
  {
   "cell_type": "code",
   "execution_count": 36,
   "id": "a4aba5ba-b491-4b47-a963-c8613c60dd80",
   "metadata": {},
   "outputs": [
    {
     "name": "stdout",
     "output_type": "stream",
     "text": [
      "tensor([[1., 1.],\n",
      "        [1., 1.]], requires_grad=True)\n"
     ]
    }
   ],
   "source": [
    "# differentiability in torch\n",
    "# when we want to calculate gradient on a tensor we need to specify it so\n",
    "# for function using that variable, a computation graph is created where every node stores gradient of a function wrt the tensor\n",
    "# set with requires_grad=True\n",
    "x=torch.ones(2,2,requires_grad=True) \n",
    "print(x)"
   ]
  },
  {
   "cell_type": "code",
   "execution_count": 35,
   "id": "7114b004-1715-47cc-ae8c-558a17aaafc3",
   "metadata": {},
   "outputs": [
    {
     "name": "stdout",
     "output_type": "stream",
     "text": [
      "tensor([[3., 3.],\n",
      "        [3., 3.]], grad_fn=<AddBackward0>)\n",
      "tensor([[1., 1.],\n",
      "        [1., 1.]])\n",
      "tensor([[2., 2.],\n",
      "        [2., 2.]], grad_fn=<MulBackward0>)\n",
      "tensor([[3., 3.],\n",
      "        [3., 3.]])\n"
     ]
    }
   ],
   "source": [
    "# separate functions involving the differentiable value\n",
    "# sample 1\n",
    "y=2+x\n",
    "print(y) # add backward gradient will be calculated wrt x\n",
    "v= torch.ones(2,2)\n",
    "y.backward(v) # gradient calculated wrt x\n",
    "print(x.grad) #gives dy/dx\n",
    "# sample 2\n",
    "z=2*x\n",
    "print(z) # multiply backward gradient will be calculated wrt x\n",
    "v= torch.ones(2,2)\n",
    "z.backward(v) # gradient calculated wrt x\n",
    "print(x.grad) # gives dz/dx"
   ]
  },
  {
   "cell_type": "code",
   "execution_count": 37,
   "id": "906d3719-e488-4fdc-9288-fa7af5e5538f",
   "metadata": {},
   "outputs": [
    {
     "name": "stdout",
     "output_type": "stream",
     "text": [
      "tensor([[3., 3.],\n",
      "        [3., 3.]], grad_fn=<AddBackward0>)\n",
      "tensor([[1., 1.],\n",
      "        [1., 1.]])\n",
      "tensor(3., grad_fn=<MeanBackward0>)\n",
      "tensor([[1.2500, 1.2500],\n",
      "        [1.2500, 1.2500]])\n"
     ]
    }
   ],
   "source": [
    "# related functions involving differentiable values\n",
    "y= 2+x\n",
    "print(y) # add backward gradient will be calculated wrt x\n",
    "v= torch.ones(2,2)\n",
    "y.backward(v) # gradient calculated wrt x\n",
    "print(x.grad) #gives dy/dx\n",
    "\n",
    "z=y.mean()\n",
    "print(z) # multiply backward gradient will be calculated wrt x\n",
    "z.backward() # gradient calculated wrt x\n",
    "print(x.grad)"
   ]
  },
  {
   "cell_type": "markdown",
   "id": "bc31a0b2-eb87-4baa-b207-9e5b9c28addc",
   "metadata": {},
   "source": [
    "# Forward Pass\n",
    "\n",
    "The forward pass of a model involves taking in an input and returning an output based on the predefined model computations"
   ]
  },
  {
   "cell_type": "markdown",
   "id": "b9cb2f0d-4921-4ca7-88e4-ba159bea6443",
   "metadata": {},
   "source": [
    "# Loss\n",
    "\n",
    "The loss calculation typically involves calculation of a scalar value that indicates difference between desired output and model prediction. "
   ]
  },
  {
   "cell_type": "markdown",
   "id": "b77efe14-7ea1-4f11-b9f8-32c7f2023845",
   "metadata": {
    "jp-MarkdownHeadingCollapsed": true
   },
   "source": [
    "# Backward Pass\n",
    "\n",
    "Also know as backpropagation, the backward pass of a model involves computing the gradients of all parameters of the model wrt the loss value. There are three important ingredients to backpropagation: \n",
    "\n",
    "1. **Computation Graph**: For any given series of functions, we create a graph of nodes which indicates input, output and parameters of each function in series. \n",
    "2. **Local Gradient Computation**: The model parameters are specified to be differentiable tensors and for each node in the computation graph of the model, we calculate local gradients i.e for any function in the model where y is output and x is input , we have $ \\frac{df}{dx}$.\n",
    "3. **Chain Rule**: Using the computation graph and the local gradients, we obtain the gradient of final loss wrt parameters of each function."
   ]
  },
  {
   "cell_type": "code",
   "execution_count": 16,
   "id": "0dacf015-92de-410f-9bc3-65daf6556c47",
   "metadata": {},
   "outputs": [
    {
     "name": "stdout",
     "output_type": "stream",
     "text": [
      "tensor([1., 1., 1., 1.])\n",
      "tensor([-0.9518,  1.9631,  1.2413,  0.0360], requires_grad=True)\n",
      "tensor([0.0482, 2.9631, 2.2413, 1.0360], grad_fn=<AddBackward0>)\n",
      "tensor(1.5721, grad_fn=<MeanBackward0>)\n",
      "dz/dx is tensor([0.2500, 0.2500, 0.2500, 0.2500])\n",
      "dy/dx is tensor([1.2500, 2.2500, 1.2500, 2.2500])\n"
     ]
    }
   ],
   "source": [
    "# let z be a function of y and y be a function using x as input and w as parameter\n",
    "x= torch.ones(4)\n",
    "print(x)\n",
    "w=torch.randn(4, requires_grad=True) # parameter gradients are needed\n",
    "print(w)\n",
    "y= w+x\n",
    "print(y)\n",
    "z=y.mean()\n",
    "print(z)\n",
    "\n",
    "\n",
    "# for calculating gradient of loss with x (dz/dx)\n",
    "dzdx= z.backward()\n",
    "print(f'dz/dx is {w.grad}')\n",
    "# dy/dx needs jacobian vector v\n",
    "v= torch.tensor([1,2,1,2])\n",
    "dydx= y.backward(v)\n",
    "print(f'dy/dx is {w.grad}')"
   ]
  },
  {
   "cell_type": "code",
   "execution_count": 17,
   "id": "e02c5613-b188-4075-b18d-60730b215096",
   "metadata": {},
   "outputs": [
    {
     "name": "stdout",
     "output_type": "stream",
     "text": [
      "tensor([1., 1., 1., 1.])\n",
      "tensor([1., 1., 1., 1.])\n",
      "tensor([3., 3., 3., 3.])\n"
     ]
    }
   ],
   "source": [
    "# avoiding gradient tracking\n",
    "# necessary when we do not want gradient tracked\n",
    "x= torch.ones(4)\n",
    "\n",
    "# Option 1 \n",
    "x.requires_grad_(False)\n",
    "print(x)\n",
    "\n",
    "#Option 2\n",
    "y=x.detach()\n",
    "print(y)\n",
    "\n",
    "# Option 3\n",
    "with torch.no_grad(): \n",
    "    y=x+2\n",
    "    print(y)"
   ]
  },
  {
   "cell_type": "code",
   "execution_count": 7,
   "id": "1b503fff-5cc7-4a37-bc90-82e9cd9a6f05",
   "metadata": {},
   "outputs": [
    {
     "name": "stdout",
     "output_type": "stream",
     "text": [
      "-----defining inputs------\n",
      "tensor([[-0.0551, -0.2824],\n",
      "        [ 1.2463,  0.6389]])\n",
      "tensor([[1., 1.],\n",
      "        [1., 1.]], requires_grad=True)\n",
      "-----training loop starts------\n",
      "tensor([[-0.0337,  0.1885],\n",
      "        [-0.0371,  0.2074]])\n",
      "tensor([[-0.0337,  0.1885],\n",
      "        [-0.0371,  0.2074]])\n"
     ]
    }
   ],
   "source": [
    "# toy training loop (from scratch)\n",
    "# let toy function be y=wx where x is input and w is weight matrix\n",
    "print(\"-----defining inputs------\")\n",
    "x=torch.randn(2,2)\n",
    "print(x)\n",
    "w=torch.ones([2,2],requires_grad=True) # weights need gradients to be updated\n",
    "print(w)\n",
    "\n",
    "print(\"-----training loop starts------\")\n",
    "\n",
    "# write training loop for updation\n",
    "for epoch in range(2): \n",
    "    # define output function within loop\n",
    "    y=torch.matmul(w,x)\n",
    "    v=torch.tensor([[0.1,0.1],[0.11,0.11]])\n",
    "    y.backward(v) # irl we do loss.backward() which calculates local gradients for all weight \n",
    "    print(w.grad) # now each parameter has a gradient associated which is multiplied to get loss gradient as a whole\n",
    "    w.grad.zero_() # ensure gradients are not being added up for every pass"
   ]
  },
  {
   "cell_type": "markdown",
   "id": "bd20c1a4-e4b0-445d-9765-adc36f65942b",
   "metadata": {},
   "source": [
    "# Linear Regression\n",
    "\n",
    "The typical steps for model specification include: \n",
    "\n",
    "1. Design model (input, output, forward pass)\n",
    "2. Construct loss\n",
    "3. Construct optimizer\n",
    "\n",
    "The typical steps for training loop include: \n",
    "\n",
    "1. Forward Pass: Get predicted output\n",
    "2. Loss: Get loss\n",
    "3. Backward: Do backward on calculated loss\n",
    "4. Optimization: Update parameters\n",
    "5. Zeroing Gradients: Set gradients to zero"
   ]
  },
  {
   "cell_type": "markdown",
   "id": "dfb8a9c1-bead-487d-98d7-e4ef44282791",
   "metadata": {},
   "source": [
    "## Toy Implementations"
   ]
  },
  {
   "cell_type": "code",
   "execution_count": 19,
   "id": "c301a2c7-93a5-4259-ba1a-7a4de606ca5d",
   "metadata": {},
   "outputs": [
    {
     "name": "stdout",
     "output_type": "stream",
     "text": [
      "Prediction before training:f(5)=0.000\n",
      "epoch 1:w = 1.200, loss=30.00000000\n",
      "epoch 2:w = 1.680, loss=4.80000067\n",
      "epoch 3:w = 1.872, loss=0.76800019\n",
      "epoch 4:w = 1.949, loss=0.12288000\n",
      "epoch 5:w = 1.980, loss=0.01966083\n",
      "epoch 6:w = 1.992, loss=0.00314574\n",
      "epoch 7:w = 1.997, loss=0.00050332\n",
      "epoch 8:w = 1.999, loss=0.00008053\n",
      "epoch 9:w = 1.999, loss=0.00001288\n",
      "epoch 10:w = 2.000, loss=0.00000206\n",
      "Prediction after training:f(5)=9.999\n"
     ]
    }
   ],
   "source": [
    "# implementation from scratch using numpy & manual gradient\n",
    "# regression function general form: y=w*x +b \n",
    "# for this example, ideal w=2 and ignore b: y=2*x\n",
    "\n",
    "# inputs\n",
    "X=np.array([1,2,3,4],dtype=np.float32)\n",
    "# outputs\n",
    "Y= np.array([2,4,6,8], dtype=np.float32)\n",
    "# initialize weights\n",
    "w=0.0 \n",
    "\n",
    "# model training\n",
    "# step 1: forward pass\n",
    "def forward(x): \n",
    "    return w*x\n",
    "\n",
    "# step 2: loss calculation with MSE\n",
    "def loss(y,y_predicted): \n",
    "    return ((y_predicted-y)**2).mean() \n",
    "\n",
    "# step 3: backward pass\n",
    "# MSE=1/N*(w*x-y)**2\n",
    "# dLoss/dw=1/N 2x(w*x-y)\n",
    "def gradient(x,y,y_predicted):\n",
    "    return np.dot(2*x,y_predicted-y).mean()\n",
    "\n",
    "\n",
    "# implementing training\n",
    "# initial prediction\n",
    "print(f'Prediction before training:f(5)={forward(5):.3f}')\n",
    "# setting hyperparameters\n",
    "learning_rate=0.01\n",
    "n_iters=10\n",
    "# training loop\n",
    "for epoch in range(n_iters): \n",
    "    # forward\n",
    "    y_pred=forward(X)\n",
    "    # loss\n",
    "    l=loss(Y,y_pred)\n",
    "    # backward \n",
    "    dlw=gradient (X,Y,y_pred)\n",
    "    # parameter updation\n",
    "    w=w-learning_rate*dlw\n",
    "\n",
    "    if epoch%1==0:\n",
    "        print(f'epoch {epoch+1}:w = {w:.3f}, loss={l:.8f}')\n",
    "# final prediction\n",
    "print(f'Prediction after training:f(5)={forward(5):.3f}')"
   ]
  },
  {
   "cell_type": "code",
   "execution_count": 12,
   "id": "cbb9314f-727a-47ab-87a4-3ce1bce1b15c",
   "metadata": {},
   "outputs": [
    {
     "name": "stdout",
     "output_type": "stream",
     "text": [
      "Prediction before training:f(5)=0.000\n",
      "epoch 1:w = 0.300, loss=30.00000000\n",
      "epoch 2:w = 0.555, loss=21.67499924\n",
      "epoch 3:w = 0.772, loss=15.66018772\n",
      "epoch 4:w = 0.956, loss=11.31448650\n",
      "epoch 5:w = 1.113, loss=8.17471695\n",
      "epoch 6:w = 1.246, loss=5.90623236\n",
      "epoch 7:w = 1.359, loss=4.26725292\n",
      "epoch 8:w = 1.455, loss=3.08308983\n",
      "epoch 9:w = 1.537, loss=2.22753215\n",
      "epoch 10:w = 1.606, loss=1.60939169\n",
      "Prediction after training:f(5)=8.031\n"
     ]
    }
   ],
   "source": [
    "# implementation from scratch using pytorch (no manual gradient needed)\n",
    "X=torch.tensor([1,2,3,4],dtype=torch.float32)\n",
    "Y=torch.tensor([2,4,6,8],dtype=torch.float32)\n",
    "w= torch.tensor(0.0,dtype=torch.float32, requires_grad=True)\n",
    "\n",
    "# forward\n",
    "def forward(x): \n",
    "    return w*x\n",
    "#loss\n",
    "def loss(y,y_pred): \n",
    "    return ((y_pred-y)**2).mean()\n",
    "\n",
    "# optimizer\n",
    "lr=0.01\n",
    "\n",
    "# initial prediction\n",
    "print(f'Prediction before training:f(5)={forward(5):.3f}')\n",
    "\n",
    "# training loop\n",
    "n_iters=10\n",
    "for epoch in range(n_iters): \n",
    "    y_pred=forward(X)\n",
    "    l= loss(Y,y_pred)\n",
    "    l.backward()\n",
    "    with torch.no_grad():\n",
    "        w-=lr*w.grad # inplace assignment to avoid breaking of w's computation graph wrt l\n",
    "    w.grad.zero_()\n",
    "    print(f'epoch {epoch+1}:w = {w:.3f}, loss={l:.8f}')\n",
    "\n",
    "# final prediction\n",
    "print(f'Prediction after training:f(5)={forward(5):.3f}')"
   ]
  },
  {
   "cell_type": "code",
   "execution_count": 12,
   "id": "c94c2b01-d733-41a1-a0ab-0f8f6c7b6e19",
   "metadata": {},
   "outputs": [
    {
     "name": "stdout",
     "output_type": "stream",
     "text": [
      "4 1\n",
      "Prediction before training:f(5)=-4.286\n",
      "epoch 1:w = -0.293, loss=64.87908936\n",
      "epoch 2:w = 0.075, loss=45.02212524\n",
      "epoch 3:w = 0.381, loss=31.24377632\n",
      "epoch 4:w = 0.636, loss=21.68325424\n",
      "epoch 5:w = 0.848, loss=15.04938126\n",
      "epoch 6:w = 1.025, loss=10.44625664\n",
      "epoch 7:w = 1.173, loss=7.25222349\n",
      "epoch 8:w = 1.296, loss=5.03592730\n",
      "epoch 9:w = 1.398, loss=3.49806452\n",
      "epoch 10:w = 1.483, loss=2.43095160\n",
      "Prediction after training:f(5)=7.544\n"
     ]
    }
   ],
   "source": [
    "# pipeline implementation\n",
    "X=torch.tensor([[1],[2],[3],[4]],dtype=torch.float32)\n",
    "Y=torch.tensor([[2],[4],[6],[8]],dtype=torch.float32)\n",
    "n_samples,n_features=X.shape\n",
    "print(n_samples,n_features)\n",
    "\n",
    "# forward\n",
    "input_size=n_features\n",
    "output_size= n_features\n",
    "model=nn.Linear(input_size,output_size)\n",
    "    \n",
    "# loss\n",
    "loss=nn.MSELoss()\n",
    "\n",
    "# optimizer\n",
    "lr=0.01\n",
    "optimizer=torch.optim.SGD(model.parameters(),lr=lr)\n",
    "\n",
    "# initial prediction\n",
    "# test tensor\n",
    "X_test=torch.tensor([5], dtype=torch.float32)\n",
    "print(f'Prediction before training:f(5)={model(X_test).item():.3f}')\n",
    "                          \n",
    "# training loop  \n",
    "n_iters=10\n",
    "for epoch in range(n_iters): \n",
    "    y_pred=model(X)\n",
    "    l= loss(Y,y_pred)\n",
    "    l.backward()\n",
    "    optimizer.step()\n",
    "    optimizer.zero_grad()\n",
    "    [w,b]=model.parameters()\n",
    "    print(f'epoch {epoch+1}:w = {w[0][0].item():.3f}, loss={l:.8f}')\n",
    "\n",
    "# final prediction\n",
    "print(f'Prediction after training:f(5)={model(X_test).item():.3f}')"
   ]
  },
  {
   "cell_type": "markdown",
   "id": "d8d447e7-764b-4600-a330-536a32bf8ebd",
   "metadata": {},
   "source": [
    "## Real Implementation"
   ]
  },
  {
   "cell_type": "code",
   "execution_count": 21,
   "id": "60bbbce5-a093-46c5-af00-5cdb06dbb6cb",
   "metadata": {},
   "outputs": [
    {
     "name": "stdout",
     "output_type": "stream",
     "text": [
      "epoch: 10, loss = 4007.7766\n",
      "epoch: 20, loss = 2825.2451\n",
      "epoch: 30, loss = 2019.2202\n",
      "epoch: 40, loss = 1469.7080\n",
      "epoch: 50, loss = 1094.9955\n",
      "epoch: 60, loss = 839.4261\n",
      "epoch: 70, loss = 665.0818\n",
      "epoch: 80, loss = 546.1240\n",
      "epoch: 90, loss = 464.9413\n",
      "epoch: 100, loss = 409.5280\n"
     ]
    },
    {
     "data": {
      "image/png": "[encoded data removed]",
      "text/plain": [
       "<Figure size 640x480 with 1 Axes>"
      ]
     },
     "metadata": {},
     "output_type": "display_data"
    }
   ],
   "source": [
    "import torch\n",
    "import torch.nn as nn\n",
    "import numpy as np\n",
    "from sklearn import datasets\n",
    "import matplotlib.pyplot as plt\n",
    "\n",
    "# prepare data\n",
    "X_numpy, y_numpy = datasets.make_regression(n_samples=100, n_features=1, noise=20, random_state=4)\n",
    "\n",
    "# cast to float Tensor\n",
    "X = torch.from_numpy(X_numpy.astype(np.float32))\n",
    "y = torch.from_numpy(y_numpy.astype(np.float32))\n",
    "y = y.view(y.shape[0], 1)\n",
    "\n",
    "n_samples, n_features = X.shape\n",
    "\n",
    "# model\n",
    "input_size = n_features\n",
    "output_size = 1\n",
    "model = nn.Linear(input_size, output_size)\n",
    "\n",
    "# loss\n",
    "criterion = nn.MSELoss()\n",
    "\n",
    "# optimizer\n",
    "learning_rate = 0.01\n",
    "optimizer = torch.optim.SGD(model.parameters(), lr=learning_rate)  \n",
    "\n",
    "# training loop\n",
    "num_epochs = 100\n",
    "for epoch in range(num_epochs):\n",
    "    # forward pass\n",
    "    y_predicted = model(X)\n",
    "    #loss\n",
    "    loss = criterion(y_predicted, y)\n",
    "    # backward pass\n",
    "    loss.backward()\n",
    "    # optimization\n",
    "    optimizer.step()\n",
    "    # zero grad \n",
    "    optimizer.zero_grad()\n",
    "\n",
    "    if (epoch+1) % 10 == 0:\n",
    "        print(f'epoch: {epoch+1}, loss = {loss.item():.4f}')\n",
    "\n",
    "# plot\n",
    "predicted = model(X).detach().numpy()\n",
    "plt.plot(X_numpy, y_numpy, 'ro')\n",
    "plt.plot(X_numpy, predicted, 'b')\n",
    "plt.show()"
   ]
  },
  {
   "cell_type": "markdown",
   "id": "907d2a69-b3f8-4a4f-81fd-fb552bfdcd42",
   "metadata": {},
   "source": [
    "# Logistic Regression"
   ]
  },
  {
   "cell_type": "markdown",
   "id": "99196cf3-f00e-4bcb-b086-9028108f3611",
   "metadata": {},
   "source": [
    "## Simple Implementation"
   ]
  },
  {
   "cell_type": "code",
   "execution_count": 49,
   "id": "68996291-83cc-4200-ad6d-9916e03cb625",
   "metadata": {},
   "outputs": [
    {
     "name": "stdout",
     "output_type": "stream",
     "text": [
      "epoch: 10, loss = 0.5751\n",
      "epoch: 20, loss = 0.4857\n",
      "epoch: 30, loss = 0.4260\n",
      "epoch: 40, loss = 0.3832\n",
      "epoch: 50, loss = 0.3508\n",
      "epoch: 60, loss = 0.3253\n",
      "epoch: 70, loss = 0.3045\n",
      "epoch: 80, loss = 0.2872\n",
      "epoch: 90, loss = 0.2725\n",
      "epoch: 100, loss = 0.2598\n",
      "accuracy: 0.9298\n"
     ]
    }
   ],
   "source": [
    "# imports\n",
    "import torch\n",
    "import torch.nn as nn\n",
    "import numpy as np\n",
    "from sklearn import datasets\n",
    "from sklearn.preprocessing import StandardScaler\n",
    "from sklearn.model_selection import train_test_split\n",
    "\n",
    "# prepare data\n",
    "# load and split\n",
    "bc = datasets.load_breast_cancer()\n",
    "X, y = bc.data, bc.target\n",
    "n_samples, n_features = X.shape\n",
    "X_train, X_test, y_train, y_test = train_test_split(X, y, test_size=0.2, random_state=1234)\n",
    "# scale\n",
    "sc = StandardScaler()\n",
    "X_train = sc.fit_transform(X_train)\n",
    "X_test = sc.transform(X_test)\n",
    "X_train = torch.from_numpy(X_train.astype(np.float32))\n",
    "X_test = torch.from_numpy(X_test.astype(np.float32))\n",
    "y_train = torch.from_numpy(y_train.astype(np.float32))\n",
    "y_test = torch.from_numpy(y_test.astype(np.float32))\n",
    "# reshape output \n",
    "y_train = y_train.view(y_train.shape[0], 1)\n",
    "y_test = y_test.view(y_test.shape[0], 1)\n",
    "\n",
    "\n",
    "# model\n",
    "# linear model f = wx + b with sigmoid at the end\n",
    "class Model(nn.Module):\n",
    "    def __init__(self, n_input_features):\n",
    "        super(Model, self).__init__()\n",
    "        self.linear = nn.Linear(n_input_features, 1)\n",
    "\n",
    "    def forward(self, x):\n",
    "        y_pred = torch.sigmoid(self.linear(x))\n",
    "        return y_pred\n",
    "\n",
    "model = Model(n_features)\n",
    "\n",
    "# loss\n",
    "criterion = nn.BCELoss() #implement by hand if possible\n",
    "\n",
    "# optimizer\n",
    "learning_rate = 0.01\n",
    "optimizer = torch.optim.SGD(model.parameters(), lr=learning_rate)\n",
    "\n",
    "# training loop\n",
    "num_epochs = 100\n",
    "for epoch in range(num_epochs):\n",
    "    # forward\n",
    "    y_pred = model(X_train)\n",
    "    # loss\n",
    "    loss = criterion(y_pred, y_train)\n",
    "    # backward\n",
    "    loss.backward()\n",
    "    # optimizer\n",
    "    optimizer.step()\n",
    "    # zero grad \n",
    "    optimizer.zero_grad()\n",
    "\n",
    "    if (epoch+1) % 10 == 0:\n",
    "        print(f'epoch: {epoch+1}, loss = {loss.item():.4f}')\n",
    "\n",
    "# evaluation \n",
    "with torch.no_grad():\n",
    "    y_predicted = model(X_test)\n",
    "    y_predicted_cls = y_predicted.round() # get softmax in real\n",
    "    acc = y_predicted_cls.eq(y_test).sum() / float(y_test.shape[0])\n",
    "    print(f'accuracy: {acc.item():.4f}')"
   ]
  },
  {
   "cell_type": "code",
   "execution_count": 30,
   "id": "268d5371-e62e-45ab-b7d3-4d46949607a3",
   "metadata": {},
   "outputs": [
    {
     "name": "stdout",
     "output_type": "stream",
     "text": [
      "The numpy softmaxed output is:[0.65900114 0.24243297 0.09856589]\n",
      "The torch softmaxed output is:tensor([0.6590, 0.2424, 0.0986])\n",
      "The numpy cross entropy loss is -0.35667494393873245\n",
      "The torch cross entropy loss is 0.4170299470424652\n",
      "The torch cross entropy loss prediction is tensor([0])\n"
     ]
    }
   ],
   "source": [
    "# For logistic regression,  Softmax and CE Loss are important for getting results\n",
    "\n",
    "# SOFTMAX: converts scores to probabilities\n",
    "# in numpy\n",
    "def softmax(x): \n",
    "    return np.exp(x)/np.sum(np.exp(x),axis=0)\n",
    "x=np.array ([2.0,1.0,0.1])\n",
    "outputs=softmax(x)\n",
    "print(f'The numpy softmaxed output is:{outputs}')\n",
    "\n",
    "# in pytorch\n",
    "x=torch.tensor ([2.0,1.0,0.1])\n",
    "outputs=torch.softmax(x,dim=0)\n",
    "print(f'The torch softmaxed output is:{outputs}')\n",
    "\n",
    "\n",
    "# CROSS ENTROPY LOSS: measures divergence of two distributions\n",
    "# Y should be one hot encoding\n",
    "# Y_pred should be probabilities\n",
    "# in numpy\n",
    "def celoss(actual, predicted): \n",
    "    loss= np.sum(actual*np.log(predicted))\n",
    "    return loss\n",
    "Y= np.array ([1,0,0])\n",
    "Y_pred=np.array([0.7,0.2,0.1])\n",
    "l=celoss(Y, Y_pred)\n",
    "print(f'The numpy cross entropy loss is {l}')\n",
    "# in torch\n",
    "loss=nn.CrossEntropyLoss() #already applies nn.LogSoftmax + nn.NLLLoss\n",
    "# here Y needs to be class labels (not one hot) \n",
    "Y= torch.tensor ([0])\n",
    "Y_pred=torch.tensor([[2.0,1.0,0.1]]) #nsamples X nclasses\n",
    "# here Y_pred needs to be raw logit scores (not softmax)\n",
    "l= loss(Y_pred,Y)\n",
    "_,predictions=torch.max(Y_pred,1)\n",
    "print(f'The torch cross entropy loss is {l.item()}')\n",
    "print(f'The torch cross entropy loss prediction is {predictions}')"
   ]
  },
  {
   "cell_type": "markdown",
   "id": "869d9f35-181f-4955-9cf0-0612b88a9de2",
   "metadata": {},
   "source": [
    "# Scikit Learn Implementations"
   ]
  },
  {
   "cell_type": "markdown",
   "id": "af71d262-5a83-483a-a8c9-7d6fb1094447",
   "metadata": {},
   "source": [
    "## Linear Regression"
   ]
  },
  {
   "cell_type": "code",
   "execution_count": 4,
   "id": "acea3345-2b7b-4faf-8156-2cbc41a76ba6",
   "metadata": {},
   "outputs": [
    {
     "name": "stdout",
     "output_type": "stream",
     "text": [
      "(100, 1)\n",
      "(100, 1)\n"
     ]
    },
    {
     "data": {
      "image/png": "[encoded data removed]",
      "text/plain": [
       "<Figure size 640x480 with 1 Axes>"
      ]
     },
     "metadata": {},
     "output_type": "display_data"
    }
   ],
   "source": [
    "import numpy as np\n",
    "import matplotlib.pyplot as plt\n",
    "from sklearn.model_selection import train_test_split\n",
    "from sklearn.linear_model import LinearRegression\n",
    "from sklearn.metrics import mean_squared_error, r2_score\n",
    "\n",
    "# creating a dataset based y=2x+3\n",
    "X= np.random.rand(100,1)*10\n",
    "print(X.shape)\n",
    "X_train, X_test= X[:60], X[60:]\n",
    "y=2+X +3 + np.random.randn(100,1)\n",
    "print(y.shape)\n",
    "y_train, y_test= y[:60], y[60:]\n",
    "\n",
    "\n",
    "# model inference\n",
    "model=LinearRegression()\n",
    "model.fit(X_train, y_train)\n",
    "\n",
    "# evaluating model\n",
    "y_pred= model.predict(X_test)\n",
    "mse=mean_squared_error(y_test, y_pred)\n",
    "\n",
    "# plotting model\n",
    "plt.scatter(X_test, y_test, color=\"blue\", label=\"Actual Data\")\n",
    "plt.plot(X_test, y_pred, color=\"red\", label=\"Prediction\")\n",
    "plt.xlabel(\"Feature 1\")\n",
    "plt.ylabel(\"General Linear Regression\")\n",
    "plt.legend()\n",
    "plt.show()"
   ]
  },
  {
   "cell_type": "markdown",
   "id": "3a6759b6-871f-46b3-b2cc-4dc1fb926f2c",
   "metadata": {
    "jp-MarkdownHeadingCollapsed": true
   },
   "source": [
    "## Logistic Regression"
   ]
  },
  {
   "cell_type": "code",
   "execution_count": 22,
   "id": "504ee12c-c981-4f35-9971-b9cda3c6b4a5",
   "metadata": {},
   "outputs": [
    {
     "name": "stdout",
     "output_type": "stream",
     "text": [
      "The accuracy is 0.9777777777777777\n",
      "The classification score is               precision    recall  f1-score   support\n",
      "\n",
      "           0       1.00      1.00      1.00        12\n",
      "           1       1.00      0.93      0.97        15\n",
      "           2       0.95      1.00      0.97        18\n",
      "\n",
      "    accuracy                           0.98        45\n",
      "   macro avg       0.98      0.98      0.98        45\n",
      "weighted avg       0.98      0.98      0.98        45\n",
      "\n"
     ]
    },
    {
     "name": "stderr",
     "output_type": "stream",
     "text": [
      "/Users/ruchira/miniforge3/envs/aienv/lib/python3.10/site-packages/sklearn/linear_model/_logistic.py:1247: FutureWarning: 'multi_class' was deprecated in version 1.5 and will be removed in 1.7. From then on, it will always use 'multinomial'. Leave it to its default value to avoid this warning.\n",
      "  warnings.warn(\n",
      "/Users/ruchira/miniforge3/envs/aienv/lib/python3.10/site-packages/sklearn/linear_model/_logistic.py:469: ConvergenceWarning: lbfgs failed to converge (status=1):\n",
      "STOP: TOTAL NO. of ITERATIONS REACHED LIMIT.\n",
      "\n",
      "Increase the number of iterations (max_iter) or scale the data as shown in:\n",
      "    https://scikit-learn.org/stable/modules/preprocessing.html\n",
      "Please also refer to the documentation for alternative solver options:\n",
      "    https://scikit-learn.org/stable/modules/linear_model.html#logistic-regression\n",
      "  n_iter_i = _check_optimize_result(\n"
     ]
    }
   ],
   "source": [
    "import numpy as np\n",
    "from sklearn import datasets\n",
    "from sklearn.model_selection import train_test_split\n",
    "from sklearn.linear_model import LogisticRegression\n",
    "from sklearn.metrics import accuracy_score, classification_report\n",
    "\n",
    "# setting up data\n",
    "iris= datasets.load_iris()\n",
    "X= iris.data\n",
    "y=  iris.target\n",
    "X_train, X_test, y_train,y_test= train_test_split(X, y, test_size=0.3)\n",
    "\n",
    "# model inference\n",
    "model=LogisticRegression(multi_class='auto')\n",
    "model.fit(X_train, y_train)\n",
    "y_pred=model.predict(X_test)\n",
    "\n",
    "# evaluation \n",
    "accuracy=accuracy_score(y_test, y_pred)\n",
    "classification= classification_report(y_test, y_pred)\n",
    "print(f'The accuracy is {accuracy}')\n",
    "print(f'The classification score is {classification}')"
   ]
  },
  {
   "cell_type": "markdown",
   "id": "adb452e7-5f4b-4955-874f-eadd0d225044",
   "metadata": {},
   "source": [
    "## Support Vector Machine\n",
    "\n",
    "Support Vector Machine (SVM) is a type of supervised machine learning algorithm that aims to find the best boundary that divides the classes of data. The key concepts in an SVM involve: \n",
    "\n",
    "- Hyperplane: The dividing boundary\n",
    "- Support Vector: The points closes to the hyperplane which determine what the hyperplane look like.\n",
    "- Margin: The gap between the hyperplane and the nearest data points from each class. SVM aims to maximize this margin to improve the model's ability to generalize.\n",
    "\n",
    "The hyperplane kernel depends on data: \n",
    "\n",
    "- Linear Kernel\n",
    "- Non-linear Kernel (rbf or polynomial)"
   ]
  },
  {
   "cell_type": "code",
   "execution_count": 8,
   "id": "815c88db-ab43-4c5c-9596-518906210d0d",
   "metadata": {},
   "outputs": [
    {
     "name": "stdout",
     "output_type": "stream",
     "text": [
      "The accuracy is 0.9888888888888889\n",
      "The classification score is               precision    recall  f1-score   support\n",
      "\n",
      "           0       1.00      1.00      1.00        29\n",
      "           1       1.00      0.96      0.98        28\n",
      "           2       0.97      1.00      0.99        33\n",
      "\n",
      "    accuracy                           0.99        90\n",
      "   macro avg       0.99      0.99      0.99        90\n",
      "weighted avg       0.99      0.99      0.99        90\n",
      "\n"
     ]
    }
   ],
   "source": [
    "import numpy as np\n",
    "from sklearn import datasets\n",
    "from sklearn.model_selection import train_test_split\n",
    "from sklearn.svm import SVC\n",
    "from sklearn.metrics import accuracy_score, classification_report\n",
    "\n",
    "# setting up data\n",
    "iris=datasets.load_iris()\n",
    "X,y=iris.data, iris.target\n",
    "X_train,X_test, y_train, y_test= train_test_split(X,y, test_size=0.6)\n",
    "\n",
    "# model inference\n",
    "model= SVC(kernel='linear', C=1.0, random_state=0) # c is regularization parameter\n",
    "model.fit(X_train, y_train)\n",
    "y_pred=model.predict(X_test) \n",
    "\n",
    "# accuracy\n",
    "accuracy= accuracy_score(y_test,y_pred)\n",
    "classification= classification_report(y_test, y_pred)\n",
    "print(f'The accuracy is {accuracy}')\n",
    "print(f'The classification score is {classification}')"
   ]
  },
  {
   "cell_type": "markdown",
   "id": "4ba77194-fca4-456c-90e4-5be3301e4499",
   "metadata": {
    "jp-MarkdownHeadingCollapsed": true
   },
   "source": [
    "## Decision Tree Classifier"
   ]
  },
  {
   "cell_type": "code",
   "execution_count": 23,
   "id": "742292d0-ef84-4562-9cad-372899bf4488",
   "metadata": {},
   "outputs": [
    {
     "name": "stdout",
     "output_type": "stream",
     "text": [
      "Accuracy: 0.8888888888888888\n"
     ]
    }
   ],
   "source": [
    "from sklearn import datasets\n",
    "from sklearn.model_selection import train_test_split\n",
    "from sklearn.tree import DecisionTreeClassifier\n",
    "\n",
    "# Load data and split\n",
    "iris = datasets.load_iris()\n",
    "X_train, X_test, y_train, y_test = train_test_split(iris.data, iris.target, test_size=0.3)\n",
    "\n",
    "# Initialize and fit the model\n",
    "clf = DecisionTreeClassifier()\n",
    "clf.fit(X_train, y_train)\n",
    "\n",
    "# Evaluate\n",
    "accuracy = clf.score(X_test, y_test)\n",
    "print(\"Accuracy:\", accuracy)"
   ]
  },
  {
   "cell_type": "markdown",
   "id": "70b86b48-4530-428f-8bcc-b455f93c74ac",
   "metadata": {},
   "source": [
    "## K Means Clustering"
   ]
  },
  {
   "cell_type": "code",
   "execution_count": null,
   "id": "39d01093-b107-4021-9124-543066f92906",
   "metadata": {},
   "outputs": [],
   "source": []
  },
  {
   "cell_type": "code",
   "execution_count": 24,
   "id": "b87b104e-ec28-4e7a-810d-3d8a4cb81b76",
   "metadata": {},
   "outputs": [
    {
     "data": {
      "image/png": "[encoded data removed]",
      "text/plain": [
       "<Figure size 640x480 with 1 Axes>"
      ]
     },
     "metadata": {},
     "output_type": "display_data"
    }
   ],
   "source": [
    "import numpy as np\n",
    "import matplotlib.pyplot as plt\n",
    "from sklearn.datasets import make_blobs\n",
    "from sklearn.cluster import KMeans\n",
    "\n",
    "\n",
    "# setting up data\n",
    "X, _ = make_blobs(n_samples=300, centers=3, cluster_std=0.6, random_state=0)\n",
    "\n",
    "# Step 2: Fit the K-Means model\n",
    "kmeans = KMeans(n_clusters=3, random_state=0)\n",
    "kmeans.fit(X)\n",
    "\n",
    "# Step 3: Get the cluster centers and labels\n",
    "centers = kmeans.cluster_centers_\n",
    "labels = kmeans.labels_\n",
    "\n",
    "# Step 4: Plot the results\n",
    "plt.scatter(X[:, 0], X[:, 1], c=labels, s=50, cmap='viridis')\n",
    "plt.scatter(centers[:, 0], centers[:, 1], c='red', s=200, alpha=0.75, marker='X', label='Centroids')\n",
    "plt.title(\"K-Means Clustering\")\n",
    "plt.xlabel(\"Feature 1\")\n",
    "plt.ylabel(\"Feature 2\")\n",
    "plt.legend()\n",
    "plt.show()"
   ]
  },
  {
   "cell_type": "code",
   "execution_count": null,
   "id": "d1ba6997-2125-4002-8585-2c901f326da9",
   "metadata": {},
   "outputs": [],
   "source": []
  }
 ],
 "metadata": {
  "kernelspec": {
   "display_name": "aienv",
   "language": "python",
   "name": "aienv"
  },
  "language_info": {
   "codemirror_mode": {
    "name": "ipython",
    "version": 3
   },
   "file_extension": ".py",
   "mimetype": "text/x-python",
   "name": "python",
   "nbconvert_exporter": "python",
   "pygments_lexer": "ipython3",
   "version": "3.10.15"
  }
 },
 "nbformat": 4,
 "nbformat_minor": 5
}

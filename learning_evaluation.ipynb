{
 "cells": [
  {
   "cell_type": "markdown",
   "id": "64af55c5-f35e-4331-8b40-b1dd30a1c2db",
   "metadata": {},
   "source": [
    "# Evaluation in ML\n",
    "\n",
    "One of the most crucial elements of Machine Learning and Deep Learning is evaluating the models we have built."
   ]
  },
  {
   "cell_type": "markdown",
   "id": "dbe9908f-2452-4aa4-85a0-e03a4b3592e6",
   "metadata": {},
   "source": [
    "### Basic Metrics"
   ]
  },
  {
   "cell_type": "markdown",
   "id": "de1f5e74-cb10-4634-b216-fbd32cce7418",
   "metadata": {},
   "source": [
    "# Classification Metrics\n",
    "\n",
    "## Accuracy\n",
    "\n",
    "It is one of the most fundamental metrics that measures the rate of correct predictions of a model but can be susceptible to misrepresentation of the model performance for smaller classes. \n",
    "\n",
    "$$\n",
    "\\text{Accuracy} = \\frac{\\text{Number of Correct Predictions}}{\\text{Total Number of Predictions}} = \\frac{TP + TN}{TP + TN + FP + FN}\n",
    "$$\n",
    "\n",
    "## Precision\n",
    "\n",
    "#### Log Loss\n",
    "\n",
    "Also known as cross-entropy loss, it measures the classification performance of the model in terms of it output probabilities. \n",
    "   "
   ]
  },
  {
   "cell_type": "markdown",
   "id": "c321da8c-05e4-4ffa-b1ab-fee43a732307",
   "metadata": {},
   "source": []
  }
 ],
 "metadata": {
  "kernelspec": {
   "display_name": "aienv",
   "language": "python",
   "name": "aienv"
  },
  "language_info": {
   "codemirror_mode": {
    "name": "ipython",
    "version": 3
   },
   "file_extension": ".py",
   "mimetype": "text/x-python",
   "name": "python",
   "nbconvert_exporter": "python",
   "pygments_lexer": "ipython3",
   "version": "3.10.14"
  }
 },
 "nbformat": 4,
 "nbformat_minor": 5
}

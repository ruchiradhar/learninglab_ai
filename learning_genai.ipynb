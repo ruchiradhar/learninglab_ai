{
 "cells": [
  {
   "cell_type": "markdown",
   "id": "26173be8-6b11-42e4-a7f9-bc9109193722",
   "metadata": {},
   "source": [
    "# Introduction"
   ]
  },
  {
   "cell_type": "markdown",
   "id": "9b2cac00-a2f7-4791-9ad2-0152dd016676",
   "metadata": {},
   "source": [
    "# Fundamentals of Transformers"
   ]
  },
  {
   "cell_type": "markdown",
   "id": "861dcecb-3355-4f59-a510-261705e59a64",
   "metadata": {},
   "source": [
    "# Fundamentals of LLMs"
   ]
  },
  {
   "cell_type": "markdown",
   "id": "e242f57c-574d-4dca-b4e0-116d0a00e55c",
   "metadata": {},
   "source": [
    "# Embeddings"
   ]
  },
  {
   "cell_type": "markdown",
   "id": "704edc70-fb1e-44f8-af25-79bf13efc2b6",
   "metadata": {},
   "source": [
    "# Open Source LLMs (Huggingface Hub)"
   ]
  },
  {
   "cell_type": "markdown",
   "id": "307e1577-751f-43a0-a9ef-b683d69c67a4",
   "metadata": {},
   "source": [
    "# Closed Source LLMs (API)"
   ]
  },
  {
   "cell_type": "markdown",
   "id": "22e1c34b-5749-411c-8660-9f86602ceae5",
   "metadata": {},
   "source": [
    "# Finetuning LLMs"
   ]
  },
  {
   "cell_type": "markdown",
   "id": "a1f4eb38-5552-4ff6-8c9c-b63289c73df2",
   "metadata": {},
   "source": [
    "# Vector Database"
   ]
  },
  {
   "cell_type": "markdown",
   "id": "890f680c-cb98-4d3c-b9a4-2308fbc3cfa3",
   "metadata": {},
   "source": [
    "# Retrieval Augmented Generation"
   ]
  },
  {
   "cell_type": "markdown",
   "id": "3193b167-4aeb-43cf-a1a1-3549d01036d6",
   "metadata": {},
   "source": [
    "# LlangChain"
   ]
  },
  {
   "cell_type": "markdown",
   "id": "55e8ba56-4d4c-441d-bb4b-188bb4a0c3ad",
   "metadata": {},
   "source": [
    "# LlamaIndex"
   ]
  },
  {
   "cell_type": "markdown",
   "id": "bc4df717-2657-456f-bfbc-0cc0027d0bec",
   "metadata": {},
   "source": [
    "# Agentic AI"
   ]
  },
  {
   "cell_type": "markdown",
   "id": "b899c131-22e4-41ac-9590-cfee16cac1b3",
   "metadata": {},
   "source": [
    "# LLM Apps"
   ]
  },
  {
   "cell_type": "markdown",
   "id": "f1e34c10-7c45-4b7d-90aa-809a824d18e9",
   "metadata": {},
   "source": [
    "# LLM Ops"
   ]
  }
 ],
 "metadata": {
  "kernelspec": {
   "display_name": "aienv",
   "language": "python",
   "name": "aienv"
  },
  "language_info": {
   "codemirror_mode": {
    "name": "ipython",
    "version": 3
   },
   "file_extension": ".py",
   "mimetype": "text/x-python",
   "name": "python",
   "nbconvert_exporter": "python",
   "pygments_lexer": "ipython3",
   "version": "3.10.15"
  }
 },
 "nbformat": 4,
 "nbformat_minor": 5
}
